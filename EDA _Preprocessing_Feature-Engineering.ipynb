{
 "cells": [
  {
   "cell_type": "markdown",
   "metadata": {
    "id": "iK-zNKJrfSy8"
   },
   "source": [
    "<h1>Classification of  Customers based on Policy Purchase </h1>"
   ]
  },
  {
   "cell_type": "markdown",
   "metadata": {
    "id": "wrZ1hGTSeK3a"
   },
   "source": [
    "<h2> Problem Statement </h2>\n",
    "Predicting which customers will purchase a given quote</b>"
   ]
  },
  {
   "cell_type": "markdown",
   "metadata": {
    "id": "eKmQO1_Tc2sF"
   },
   "source": [
    "<h3>Performance Metric</h3>\n",
    "https://www.kaggle.com/competitions/homesite-quote-conversion/overview/\n",
    "\n",
    "* Area under the ROC curve\n",
    "\n"
   ]
  },
  {
   "cell_type": "markdown",
   "metadata": {
    "id": "wDmC7E3ky1cD"
   },
   "source": [
    "### Data Loading "
   ]
  },
  {
   "cell_type": "code",
   "execution_count": 1,
   "metadata": {
    "id": "bm3vXbjvrSxc"
   },
   "outputs": [],
   "source": [
    "import pandas as pd\n",
    "import numpy as np\n",
    "import seaborn as sns\n",
    "import matplotlib.pyplot as plt\n",
    "from tqdm.notebook import tqdm\n",
    "import warnings\n",
    "warnings.filterwarnings('ignore')\n"
   ]
  },
  {
   "cell_type": "code",
   "execution_count": 220,
   "metadata": {
    "colab": {
     "base_uri": "https://localhost:8080/"
    },
    "id": "bynijXL3ven3",
    "outputId": "75643777-7682-434f-d7f1-40aed900f49a"
   },
   "outputs": [
    {
     "name": "stdout",
     "output_type": "stream",
     "text": [
      "homesite-quote-conversion.zip: Skipping, found more recently modified local copy (use --force to force download)\r\n"
     ]
    }
   ],
   "source": [
    "!kaggle competitions download -c homesite-quote-conversion #-f train.csv.7z"
   ]
  },
  {
   "cell_type": "code",
   "execution_count": null,
   "metadata": {
    "colab": {
     "base_uri": "https://localhost:8080/"
    },
    "id": "lthanrc4v_Gf",
    "outputId": "79cc9a2f-039c-4606-d3b3-e3c945535370"
   },
   "outputs": [],
   "source": [
    "##unzipping the data\n",
    "#https://askubuntu.com/questions/219392/how-can-i-uncompress-a-7z-file\n",
    "!sudo apt install p7zip-full -y\n",
    "!7z x homesite-quote-conversion.zip"
   ]
  },
  {
   "cell_type": "code",
   "execution_count": null,
   "metadata": {
    "colab": {
     "base_uri": "https://localhost:8080/"
    },
    "id": "-vPFYXfzwP8E",
    "outputId": "91553081-4552-4ab9-f080-a0b1c5853158"
   },
   "outputs": [],
   "source": [
    "!7z x train.csv.zip"
   ]
  },
  {
   "cell_type": "code",
   "execution_count": null,
   "metadata": {
    "colab": {
     "base_uri": "https://localhost:8080/"
    },
    "id": "wzknTdzhwPpe",
    "outputId": "5f3227e7-c453-4de5-e12e-0b9c2e91f163"
   },
   "outputs": [],
   "source": [
    "!7z x test.csv.zip"
   ]
  },
  {
   "cell_type": "code",
   "execution_count": null,
   "metadata": {
    "colab": {
     "base_uri": "https://localhost:8080/"
    },
    "id": "PSMVFSIMquud",
    "outputId": "88f908f0-61a2-4e17-c522-01a7b7485b48"
   },
   "outputs": [],
   "source": [
    "!pip install missingno"
   ]
  },
  {
   "cell_type": "markdown",
   "metadata": {
    "id": "nho3faeM7rpS"
   },
   "source": [
    "### Train data Analysis"
   ]
  },
  {
   "cell_type": "code",
   "execution_count": 2,
   "metadata": {
    "id": "G3-w9o07xGys"
   },
   "outputs": [],
   "source": [
    "#Reading the train file\n",
    "df= pd.read_csv(\"train.csv\")"
   ]
  },
  {
   "cell_type": "code",
   "execution_count": 4,
   "metadata": {
    "colab": {
     "base_uri": "https://localhost:8080/",
     "height": 0
    },
    "id": "wphxSvDmPsd5",
    "outputId": "6b687405-85db-43fb-b269-b53c290f8e3e"
   },
   "outputs": [
    {
     "data": {
      "text/html": [
       "<div>\n",
       "<style scoped>\n",
       "    .dataframe tbody tr th:only-of-type {\n",
       "        vertical-align: middle;\n",
       "    }\n",
       "\n",
       "    .dataframe tbody tr th {\n",
       "        vertical-align: top;\n",
       "    }\n",
       "\n",
       "    .dataframe thead th {\n",
       "        text-align: right;\n",
       "    }\n",
       "</style>\n",
       "<table border=\"1\" class=\"dataframe\">\n",
       "  <thead>\n",
       "    <tr style=\"text-align: right;\">\n",
       "      <th></th>\n",
       "      <th>QuoteNumber</th>\n",
       "      <th>Original_Quote_Date</th>\n",
       "      <th>QuoteConversion_Flag</th>\n",
       "      <th>Field6</th>\n",
       "      <th>Field7</th>\n",
       "      <th>Field8</th>\n",
       "      <th>Field9</th>\n",
       "      <th>Field10</th>\n",
       "      <th>Field11</th>\n",
       "      <th>Field12</th>\n",
       "      <th>...</th>\n",
       "      <th>GeographicField59A</th>\n",
       "      <th>GeographicField59B</th>\n",
       "      <th>GeographicField60A</th>\n",
       "      <th>GeographicField60B</th>\n",
       "      <th>GeographicField61A</th>\n",
       "      <th>GeographicField61B</th>\n",
       "      <th>GeographicField62A</th>\n",
       "      <th>GeographicField62B</th>\n",
       "      <th>GeographicField63</th>\n",
       "      <th>GeographicField64</th>\n",
       "    </tr>\n",
       "  </thead>\n",
       "  <tbody>\n",
       "    <tr>\n",
       "      <th>0</th>\n",
       "      <td>1</td>\n",
       "      <td>2013-08-16</td>\n",
       "      <td>0</td>\n",
       "      <td>B</td>\n",
       "      <td>23</td>\n",
       "      <td>0.9403</td>\n",
       "      <td>0.0006</td>\n",
       "      <td>965</td>\n",
       "      <td>1.0200</td>\n",
       "      <td>N</td>\n",
       "      <td>...</td>\n",
       "      <td>9</td>\n",
       "      <td>9</td>\n",
       "      <td>-1</td>\n",
       "      <td>8</td>\n",
       "      <td>-1</td>\n",
       "      <td>18</td>\n",
       "      <td>-1</td>\n",
       "      <td>10</td>\n",
       "      <td>N</td>\n",
       "      <td>CA</td>\n",
       "    </tr>\n",
       "    <tr>\n",
       "      <th>1</th>\n",
       "      <td>2</td>\n",
       "      <td>2014-04-22</td>\n",
       "      <td>0</td>\n",
       "      <td>F</td>\n",
       "      <td>7</td>\n",
       "      <td>1.0006</td>\n",
       "      <td>0.0040</td>\n",
       "      <td>548</td>\n",
       "      <td>1.2433</td>\n",
       "      <td>N</td>\n",
       "      <td>...</td>\n",
       "      <td>10</td>\n",
       "      <td>10</td>\n",
       "      <td>-1</td>\n",
       "      <td>11</td>\n",
       "      <td>-1</td>\n",
       "      <td>17</td>\n",
       "      <td>-1</td>\n",
       "      <td>20</td>\n",
       "      <td>N</td>\n",
       "      <td>NJ</td>\n",
       "    </tr>\n",
       "    <tr>\n",
       "      <th>2</th>\n",
       "      <td>4</td>\n",
       "      <td>2014-08-25</td>\n",
       "      <td>0</td>\n",
       "      <td>F</td>\n",
       "      <td>7</td>\n",
       "      <td>1.0006</td>\n",
       "      <td>0.0040</td>\n",
       "      <td>548</td>\n",
       "      <td>1.2433</td>\n",
       "      <td>N</td>\n",
       "      <td>...</td>\n",
       "      <td>15</td>\n",
       "      <td>18</td>\n",
       "      <td>-1</td>\n",
       "      <td>21</td>\n",
       "      <td>-1</td>\n",
       "      <td>11</td>\n",
       "      <td>-1</td>\n",
       "      <td>8</td>\n",
       "      <td>N</td>\n",
       "      <td>NJ</td>\n",
       "    </tr>\n",
       "    <tr>\n",
       "      <th>3</th>\n",
       "      <td>6</td>\n",
       "      <td>2013-04-15</td>\n",
       "      <td>0</td>\n",
       "      <td>J</td>\n",
       "      <td>10</td>\n",
       "      <td>0.9769</td>\n",
       "      <td>0.0004</td>\n",
       "      <td>1,165</td>\n",
       "      <td>1.2665</td>\n",
       "      <td>N</td>\n",
       "      <td>...</td>\n",
       "      <td>6</td>\n",
       "      <td>5</td>\n",
       "      <td>-1</td>\n",
       "      <td>10</td>\n",
       "      <td>-1</td>\n",
       "      <td>9</td>\n",
       "      <td>-1</td>\n",
       "      <td>21</td>\n",
       "      <td>N</td>\n",
       "      <td>TX</td>\n",
       "    </tr>\n",
       "    <tr>\n",
       "      <th>4</th>\n",
       "      <td>8</td>\n",
       "      <td>2014-01-25</td>\n",
       "      <td>0</td>\n",
       "      <td>E</td>\n",
       "      <td>23</td>\n",
       "      <td>0.9472</td>\n",
       "      <td>0.0006</td>\n",
       "      <td>1,487</td>\n",
       "      <td>1.3045</td>\n",
       "      <td>N</td>\n",
       "      <td>...</td>\n",
       "      <td>18</td>\n",
       "      <td>22</td>\n",
       "      <td>-1</td>\n",
       "      <td>10</td>\n",
       "      <td>-1</td>\n",
       "      <td>11</td>\n",
       "      <td>-1</td>\n",
       "      <td>12</td>\n",
       "      <td>N</td>\n",
       "      <td>IL</td>\n",
       "    </tr>\n",
       "  </tbody>\n",
       "</table>\n",
       "<p>5 rows × 299 columns</p>\n",
       "</div>"
      ],
      "text/plain": [
       "   QuoteNumber Original_Quote_Date  QuoteConversion_Flag Field6  Field7  \\\n",
       "0            1          2013-08-16                     0      B      23   \n",
       "1            2          2014-04-22                     0      F       7   \n",
       "2            4          2014-08-25                     0      F       7   \n",
       "3            6          2013-04-15                     0      J      10   \n",
       "4            8          2014-01-25                     0      E      23   \n",
       "\n",
       "   Field8  Field9 Field10  Field11 Field12  ...  GeographicField59A  \\\n",
       "0  0.9403  0.0006     965   1.0200       N  ...                   9   \n",
       "1  1.0006  0.0040     548   1.2433       N  ...                  10   \n",
       "2  1.0006  0.0040     548   1.2433       N  ...                  15   \n",
       "3  0.9769  0.0004   1,165   1.2665       N  ...                   6   \n",
       "4  0.9472  0.0006   1,487   1.3045       N  ...                  18   \n",
       "\n",
       "   GeographicField59B  GeographicField60A  GeographicField60B  \\\n",
       "0                   9                  -1                   8   \n",
       "1                  10                  -1                  11   \n",
       "2                  18                  -1                  21   \n",
       "3                   5                  -1                  10   \n",
       "4                  22                  -1                  10   \n",
       "\n",
       "   GeographicField61A  GeographicField61B  GeographicField62A  \\\n",
       "0                  -1                  18                  -1   \n",
       "1                  -1                  17                  -1   \n",
       "2                  -1                  11                  -1   \n",
       "3                  -1                   9                  -1   \n",
       "4                  -1                  11                  -1   \n",
       "\n",
       "   GeographicField62B  GeographicField63  GeographicField64  \n",
       "0                  10                  N                 CA  \n",
       "1                  20                  N                 NJ  \n",
       "2                   8                  N                 NJ  \n",
       "3                  21                  N                 TX  \n",
       "4                  12                  N                 IL  \n",
       "\n",
       "[5 rows x 299 columns]"
      ]
     },
     "execution_count": 4,
     "metadata": {},
     "output_type": "execute_result"
    }
   ],
   "source": [
    "df.head()"
   ]
  },
  {
   "cell_type": "code",
   "execution_count": 5,
   "metadata": {
    "colab": {
     "base_uri": "https://localhost:8080/"
    },
    "id": "lK9MrkjGzxY2",
    "outputId": "333e400a-7199-4e71-8b1f-a190b2851b5e"
   },
   "outputs": [
    {
     "name": "stdout",
     "output_type": "stream",
     "text": [
      "Index(['QuoteNumber', 'Original_Quote_Date', 'QuoteConversion_Flag', 'Field6',\n",
      "       'Field7', 'Field8', 'Field9', 'Field10', 'Field11', 'Field12',\n",
      "       ...\n",
      "       'GeographicField59A', 'GeographicField59B', 'GeographicField60A',\n",
      "       'GeographicField60B', 'GeographicField61A', 'GeographicField61B',\n",
      "       'GeographicField62A', 'GeographicField62B', 'GeographicField63',\n",
      "       'GeographicField64'],\n",
      "      dtype='object', length=299)\n",
      "\n",
      "Shape of train matrix: (260753, 299)\n"
     ]
    }
   ],
   "source": [
    "print(df.columns)\n",
    "print(\"\\nShape of train matrix:\",df.shape)"
   ]
  },
  {
   "cell_type": "code",
   "execution_count": 6,
   "metadata": {
    "colab": {
     "base_uri": "https://localhost:8080/",
     "height": 0
    },
    "id": "mKukxbqRcfzc",
    "outputId": "1f7e7caf-708d-4996-8cde-8740d9026db8"
   },
   "outputs": [
    {
     "name": "stdout",
     "output_type": "stream",
     "text": [
      "The value count from target table are:\n",
      " 0    211859\n",
      "1     48894\n",
      "Name: QuoteConversion_Flag, dtype: int64\n",
      "\n",
      "\n"
     ]
    },
    {
     "data": {
      "image/png": "[encoded data removed]",
      "text/plain": [
       "<Figure size 432x288 with 1 Axes>"
      ]
     },
     "metadata": {
      "needs_background": "light"
     },
     "output_type": "display_data"
    }
   ],
   "source": [
    "#target column\n",
    "#checking class count\n",
    "\"\"\" Class imbalance exist. As more number of 0 labels present than 1\"\"\"\n",
    "print(\"The value count from target table are:\\n\",df['QuoteConversion_Flag'].value_counts())\n",
    "print(\"\\n\")\n",
    "import seaborn as sns\n",
    "import matplotlib.pyplot as plt\n",
    "sns.countplot(df[\"QuoteConversion_Flag\"])\n",
    "plt.show()"
   ]
  },
  {
   "cell_type": "code",
   "execution_count": 7,
   "metadata": {
    "colab": {
     "base_uri": "https://localhost:8080/"
    },
    "id": "I4Hfad0a2sSA",
    "outputId": "7e2f6c03-b8cf-463b-8a09-01926d272d22"
   },
   "outputs": [
    {
     "name": "stdout",
     "output_type": "stream",
     "text": [
      "Percentage of  class 0 label train datapoints:  81.25 %\n",
      "Percentage of  class 1 label train datapoints:  18.75 %\n"
     ]
    }
   ],
   "source": [
    "print(\"Percentage of  class 0 label train datapoints: \",round(df['QuoteConversion_Flag'].value_counts()[0]*100/df['QuoteConversion_Flag'].count(),2),\"%\")\n",
    "print(\"Percentage of  class 1 label train datapoints: \",round(df['QuoteConversion_Flag'].value_counts()[1]*100/df['QuoteConversion_Flag'].count(),2),\"%\")"
   ]
  },
  {
   "cell_type": "markdown",
   "metadata": {
    "id": "BRdJFwG1ce9D"
   },
   "source": [
    "### Observation from train data look up:\n",
    "* Train dataset is highly imbalanced and having class 0 with 81.25% of datapoints\n",
    "* Here \"Field10\" column is having values as integers but numbers in 1000 places are separated by comma's So df['Field10'] column datatype becomes \"object\" which is string\n",
    "* Comma's can be removed and converted into integres by typecasting"
   ]
  },
  {
   "cell_type": "markdown",
   "metadata": {
    "id": "mCEeFTr4XU_a"
   },
   "source": [
    "#### Converting Categorical variables which are having only 2 distinct values( Y & N) to Numerical variables by replacing Y with 1 and N with 0\n",
    "\n",
    "* Since it doesnot create any data leakage issue so this conversion can be made before split into train and test data"
   ]
  },
  {
   "cell_type": "code",
   "execution_count": 8,
   "metadata": {
    "id": "ZEruh-CQoM7d"
   },
   "outputs": [],
   "source": [
    "def converting_numeric(df):\n",
    "  \"\"\" This function is to convert the categorical features which are having only Y & N as the categories \n",
    "  in the columns can be converted into numerical values as 1 & 0 respectively \"\"\"\n",
    "  cat_features=[i for i in df.columns if df.dtypes[i]=='object']\n",
    "  print(\"categorical features are:\",cat_features)\n",
    "  print(\"\\n Total number of categorical features are: \",len(cat_features))\n",
    "\n",
    "  #from the dataset it is observed that colum \"GeographicField63\" is having NULL value in the unique set of values along with Y & N\n",
    "  filtered_cat=[]\n",
    "  for i in cat_features:\n",
    "    filter_1=dict(df[i].value_counts()) #gives the distinct values\n",
    "    if len(filter_1)==2 or set(i for i in filter_1.keys() if i!= \" \")==set(('N','Y')): #here column having only Y & N are filtered out\n",
    "      filtered_cat.append(i)\n",
    "\n",
    "  print(\"\\n{} categorical varibales are converted into numerical features out of {} categorical variables\".format(len(filtered_cat),len(cat_features)))\n",
    "  print(\"\\nConverting categorical variables are: \",filtered_cat)\n",
    "\n",
    "  df_1=pd.DataFrame([])\n",
    "  for i in filtered_cat:\n",
    "    df_1[i]=df[i].map(lambda x: 0 if x== 'N' else(1 if x=='Y' else x)) #writing elif in lambda function from ref\n",
    "  return df_1,filtered_cat\n"
   ]
  },
  {
   "cell_type": "code",
   "execution_count": 9,
   "metadata": {
    "colab": {
     "base_uri": "https://localhost:8080/"
    },
    "id": "RMwKZD9mpQG5",
    "outputId": "c1b3c137-4749-44c5-be4b-578cab451abe"
   },
   "outputs": [
    {
     "name": "stdout",
     "output_type": "stream",
     "text": [
      "categorical features are: ['Original_Quote_Date', 'Field6', 'Field10', 'Field12', 'CoverageField8', 'CoverageField9', 'SalesField7', 'PersonalField7', 'PersonalField16', 'PersonalField17', 'PersonalField18', 'PersonalField19', 'PropertyField3', 'PropertyField4', 'PropertyField5', 'PropertyField7', 'PropertyField14', 'PropertyField28', 'PropertyField30', 'PropertyField31', 'PropertyField32', 'PropertyField33', 'PropertyField34', 'PropertyField36', 'PropertyField37', 'PropertyField38', 'GeographicField63', 'GeographicField64']\n",
      "\n",
      " Total number of categorical features are:  28\n",
      "\n",
      "12 categorical varibales are converted into numerical features out of 28 categorical variables\n",
      "\n",
      "Converting categorical variables are:  ['Field12', 'PersonalField7', 'PropertyField3', 'PropertyField4', 'PropertyField5', 'PropertyField30', 'PropertyField32', 'PropertyField34', 'PropertyField36', 'PropertyField37', 'PropertyField38', 'GeographicField63']\n",
      "\n",
      " Dimension of the dataframe now is:  (260753, 299)\n"
     ]
    }
   ],
   "source": [
    "df_1,filtered_cat=converting_numeric(df)\n",
    "df=df.drop(filtered_cat, axis=1)\n",
    "df=pd.concat([df,df_1],axis=1)\n",
    "print(\"\\n Dimension of the dataframe now is: \",df.shape)"
   ]
  },
  {
   "cell_type": "markdown",
   "metadata": {
    "id": "jl1dhoeLOLiG"
   },
   "source": [
    "#### Note: Here still \"GeographicField63\" column will be string datatype since it is having empty values in it. So it is coming under categorical."
   ]
  },
  {
   "cell_type": "code",
   "execution_count": 10,
   "metadata": {
    "id": "9NpFOhUL4iW3"
   },
   "outputs": [],
   "source": [
    "#https://stackoverflow.com/questions/39461328/in-pandas-what-does-the-na-action-parameter-to-series-map-do\n",
    "def removal_of_empty_if(df_1):\n",
    "  \"\"\"converting empty values to None so that this will fall into int64 datatype \n",
    "     This can be used for the column which have empty values making the column as string eventhough the rest of the values are integer\"\"\"\n",
    "  if df_1.dtype=='O':\n",
    "      df_trial=df_1.map(lambda x: int(x) if x!=' ' else None ,na_action=None)\n",
    "      print(\"Datatype after conversion is: \",df_trial.dtype)\n",
    "      #now check the converted \n",
    "      if df_trial.dtype=='int64' or df_trial.dtype=='float64':\n",
    "        return df_trial\n",
    "      else:\n",
    "        print(\"\\nThe given column has other categories than empty value\")"
   ]
  },
  {
   "cell_type": "code",
   "execution_count": 11,
   "metadata": {
    "colab": {
     "base_uri": "https://localhost:8080/"
    },
    "id": "HFYuo74T406c",
    "outputId": "da6eedbf-517f-4784-beb4-9f25f35f4a0f"
   },
   "outputs": [
    {
     "name": "stdout",
     "output_type": "stream",
     "text": [
      "Datatype after conversion is:  float64\n"
     ]
    }
   ],
   "source": [
    "df_none=removal_of_empty_if (df['GeographicField63'])"
   ]
  },
  {
   "cell_type": "code",
   "execution_count": 12,
   "metadata": {
    "id": "96wTrKxy-u1X"
   },
   "outputs": [],
   "source": [
    "df=df.drop(['GeographicField63'],axis=1) #removing the string column\n",
    "if df_none.dtype=='int64' or df_none.dtype=='float64':\n",
    "  df['GeographicField63']=df_none\n",
    "else:\n",
    "  print(\"\\n undrop the column\")\n",
    "#df=pd.concat([df,df_none],axis=1) #concatening the converted numerical column"
   ]
  },
  {
   "cell_type": "markdown",
   "metadata": {
    "id": "A8UTaIVjomiL"
   },
   "source": [
    "#### Comma character removal and integer conversion of \"Field10\" column"
   ]
  },
  {
   "cell_type": "code",
   "execution_count": 13,
   "metadata": {
    "id": "G2M8QMFZomiN"
   },
   "outputs": [],
   "source": [
    "def comma_removal(column_comma):\n",
    "  \"\"\"converting catergorical feature into numerical. As it is having comma for 1000position of number in the column values \"\"\"\n",
    "  print(\"The current dtatype is:\", column_comma.dtype)\n",
    "  if column_comma.dtype=='O': #checks if the datatype is object then perform the comma removal\n",
    "    column_comma=column_comma.apply(lambda x: int(x.replace(',',\"\")))\n",
    "    print(\"The dtatype after conversion is:\" ,column_comma.dtype)\n",
    "    return column_comma\n",
    "  else:\n",
    "    return column_comma\n"
   ]
  },
  {
   "cell_type": "code",
   "execution_count": 14,
   "metadata": {
    "colab": {
     "base_uri": "https://localhost:8080/"
    },
    "id": "5u01u6odomiP",
    "outputId": "272f0eba-6079-4435-b0ce-3942f39aff6d"
   },
   "outputs": [
    {
     "name": "stdout",
     "output_type": "stream",
     "text": [
      "The current dtatype is: object\n",
      "The dtatype after conversion is: int64\n"
     ]
    }
   ],
   "source": [
    "#Updating the \"Field10\" column by removing the comma at 1000's places and converting into integer\n",
    "df[\"Field10\"] = comma_removal(df[\"Field10\"])\n"
   ]
  },
  {
   "cell_type": "markdown",
   "metadata": {
    "id": "QZC5NugWLG8w"
   },
   "source": [
    "### Finding Categorical feature correlation using Chi-Square test"
   ]
  },
  {
   "cell_type": "markdown",
   "metadata": {
    "id": "fZRFnJjE9zzz"
   },
   "source": [
    "##### References\n",
    "* https://stackoverflow.com/questions/48035381/correlation-among-multiple-categorical-variables-pandas\n",
    "* https://www.geeksforgeeks.org/python-pearsons-chi-square-test/\n",
    "* https://www.geeksforgeeks.org/pandas-crosstab-function-in-python/"
   ]
  },
  {
   "cell_type": "code",
   "execution_count": 15,
   "metadata": {
    "id": "XqjioONXLpZu"
   },
   "outputs": [],
   "source": [
    "#https://thinkingneuron.com/how-to-measure-the-correlation-between-two-categorical-variables-in-python/\n",
    "cat_features=[i for i in df.columns if df.dtypes[i]=='object']\n",
    "from scipy.stats import chi2_contingency\n",
    "\"\"\"Cross tab function calculates the frequency between the pair of categorical variables\"\"\"\n",
    "from scipy.stats import chi2_contingency\n",
    "pair_columns=list()\n",
    "for i in cat_features:\n",
    "  for j in cat_features:\n",
    "    if (j,i) not in pair_columns: #and i!=j: #takes only combination of pairs \n",
    "      pair_columns.append((i,j))\n",
    "\n",
    "correlated_col=[]\n",
    "p_value_corr=[]\n",
    "for i in pair_columns:\n",
    " \n",
    "  CrosstabResult=pd.crosstab(index=df[i[0]],columns=df[i[1]])\n",
    "  #print(CrosstabResult)\n",
    "  #Performing Chi-sq test\n",
    "  chi2, p, dof, ex = chi2_contingency(CrosstabResult)\n",
    "  # P-Value is the Probability of H0 being True\n",
    "  # If P-Value;0.05 then only we Accept the assumption(H0)\n",
    "\n",
    "  #print('The P-Value of the ChiSq Test is for pair {} is :'.format(i), p)\n",
    "  \"\"\"  A p-value measures the probability of obtaining the observed results, assuming that the null hypothesis is true.\"\"\"\n",
    "  if p<=0.05:\n",
    "    correlated_col.append(i)\n",
    "    p_value_corr.append(p)\n"
   ]
  },
  {
   "cell_type": "code",
   "execution_count": 16,
   "metadata": {
    "id": "rY4O-gG2kV_q"
   },
   "outputs": [],
   "source": [
    "dict_1=dict(zip(correlated_col,p_value_corr))\n",
    "zero_cat_df=pd.DataFrame(0,columns=cat_features,index=cat_features)\n",
    "set_1=set()\n",
    "set_2=set()\n",
    "for key, value in dict_1.items():\n",
    "  zero_cat_df.loc[key[0],key[1]]=round(value,3)\n",
    "  zero_cat_df.loc[key[1],key[0]]=round(value,3)\n",
    "  set_1.add(key[0])\n",
    "  set_2.add(key[1])\n"
   ]
  },
  {
   "cell_type": "code",
   "execution_count": 17,
   "metadata": {
    "colab": {
     "base_uri": "https://localhost:8080/",
     "height": 0
    },
    "id": "wibYJvznqiwj",
    "outputId": "bb98e895-5919-4163-b008-e92e24f5ab4e"
   },
   "outputs": [
    {
     "data": {
      "image/png": "[encoded data removed]",
      "text/plain": [
       "<Figure size 504x360 with 2 Axes>"
      ]
     },
     "metadata": {
      "needs_background": "light"
     },
     "output_type": "display_data"
    }
   ],
   "source": [
    "#https://seaborn.pydata.org/generated/seaborn.heatmap.html\n",
    "import seaborn as sns\n",
    "mask = np.zeros_like(zero_cat_df)\n",
    "#np.triu_indices_from will get the values from upper triangle matrix\n",
    "mask[np.triu_indices_from(mask)] = True #data will not be shown in heatmap where mask is TRUE\n",
    "sns.axes_style(\"white\")\n",
    "f, ax = plt.subplots(figsize=(7, 5))\n",
    "ax = sns.heatmap(zero_cat_df, mask=mask, cmap=\"Set2\",square=True,linewidth=0.8)"
   ]
  },
  {
   "cell_type": "markdown",
   "metadata": {
    "id": "qSkeKNpOvSH7"
   },
   "source": [
    "### Observations:\n",
    "* There are total 15 categorical features\n",
    "* Null Hypothesis(H0): There is no correlation among the features\n",
    "* Alternative Hypothesis(H1): There exists correlation among the features/columns\n",
    "* Significance value(alpha) is 0.05 is choosen for an analysis\n",
    "* For all the pairs for features p value is less than 0.05. It means we reject NULL Hypothesis and accept alternative hypothesis saying that all the pairs/combination of categorical features are correlated\n",
    "* So here for dropping columns. Count method is considered. Higher the unique fields columns can be dropped and will retains 7 columns amoung 15 columns"
   ]
  },
  {
   "cell_type": "code",
   "execution_count": 18,
   "metadata": {
    "id": "B-Wln8P177vV"
   },
   "outputs": [],
   "source": [
    "set_1.remove('Original_Quote_Date')"
   ]
  },
  {
   "cell_type": "code",
   "execution_count": 19,
   "metadata": {
    "id": "UX0154g5vfYY"
   },
   "outputs": [],
   "source": [
    "describe=df[list(set_1)].describe()[1:2].T"
   ]
  },
  {
   "cell_type": "code",
   "execution_count": 20,
   "metadata": {
    "colab": {
     "base_uri": "https://localhost:8080/"
    },
    "id": "AcJQkfnGxJri",
    "outputId": "55126cb8-0d62-4aeb-df50-17c12fe5bf4f"
   },
   "outputs": [
    {
     "name": "stdout",
     "output_type": "stream",
     "text": [
      "dropping columns which are positively correlated:  ['PersonalField17', 'PersonalField18', 'PersonalField19', 'PersonalField16', 'PropertyField7', 'CoverageField9', 'Field6']\n"
     ]
    }
   ],
   "source": [
    "#list o correlated columns to be dropped which have high correlation with other columns\n",
    "dropping_cat_feat=list(describe.sort_values(by=['unique'],ascending=False, ignore_index=False)[:7].index)\n",
    "print(\"dropping columns which are positively correlated: \",dropping_cat_feat)"
   ]
  },
  {
   "cell_type": "code",
   "execution_count": 21,
   "metadata": {
    "colab": {
     "base_uri": "https://localhost:8080/"
    },
    "id": "73XGZn1K9w3e",
    "outputId": "92982b62-c949-430d-abae-44153523ff01"
   },
   "outputs": [
    {
     "name": "stdout",
     "output_type": "stream",
     "text": [
      "Dimension is :  (260753, 292)\n"
     ]
    }
   ],
   "source": [
    "df=df.drop(dropping_cat_feat,axis=1)\n",
    "print(\"Dimension is : \",df.shape)"
   ]
  },
  {
   "cell_type": "markdown",
   "metadata": {
    "id": "XeL7jlmPn5aH"
   },
   "source": [
    "* Here 'Original_Quote_Date' columns are not removed currently but is removed while extracting the new features. So considering 14 remaining columns of categorical types. 7 more are removed"
   ]
  },
  {
   "cell_type": "markdown",
   "metadata": {
    "id": "1r0L7wTQoWEZ"
   },
   "source": [
    "### Analysing columns with higher NA's count"
   ]
  },
  {
   "cell_type": "code",
   "execution_count": 24,
   "metadata": {
    "id": "7E9-xHYmVylL"
   },
   "outputs": [],
   "source": [
    "#https://stackoverflow.com/questions/29803093/check-which-columns-in-dataframe-are-categorical\n",
    "#https://stackoverflow.com/questions/36226083/how-to-find-which-columns-contain-any-nan-value-in-pandas-dataframe#:~:text=You%20can%20use%20df.,isnull().\n",
    "#https://www.geeksforgeeks.org/matplotlib-pyplot-text-function-in-python/  -->> to add text in graph\n",
    "#https://stackoverflow.com/questions/71610279/visualise-missing-values-in-a-time-series-heatmap -->>string to float issue\n",
    "# https://medium.com/@sumitgulati59/insurance-risk-classification-380c805eca0e -->> for missing no graph analysis\n",
    "def removing_col_NA(df_1,threshold):\n",
    "  \"\"\" Removing the columns which have higher percentage of NA/NULL values in it as they will not give value during classification. \n",
    "      Removal of column is done based on input threshold\n",
    "  \n",
    "  \"\"\"\n",
    "  # Seperating categorical & Numerical column based on \"dtype\" function & storinf in list\n",
    "  cat_features=[i for i in df_1.columns if df_1.dtypes[i]=='object']\n",
    "  numerical_features=list(set(df_1.columns)-set(cat_features))\n",
    "\n",
    "  #Checking if column has atleast one NA value in it in -the dataset\n",
    "  print(\"The columns/features which have atleast one NULL value are:\\n\",df_1.columns[df_1.isnull().any()])\n",
    "\n",
    "  #Count of NA values in the columns & result is stored in dictionary\n",
    "  null_count=dict(df_1[df_1.columns[df_1.isnull().any()]].apply(lambda x: x.isna().sum()))\n",
    "  print(\"\\nCount of NA values in the columns are: \\n\",null_count)\n",
    "  #Percentage of NA are calculated baed on \"QuoteConversion_Flag\" column\n",
    "  percentage_NA=dict(df_1[df_1.columns[df_1.isnull().any()]].apply(lambda x: round(x.isna().sum()*100/(df_1['QuoteConversion_Flag'].count()),2)))\n",
    "  sorted_NA=sorted(percentage_NA.items(),key=lambda a: a[1]) #sorting based on percentage of NA in asc. \n",
    "\n",
    "  #NA graph\n",
    "  import matplotlib.pyplot as plt\n",
    "  \"\"\" Bar graph for columns having NA values\"\"\"\n",
    "  values=[]\n",
    "  keys=[]\n",
    "  for i  in sorted_NA:\n",
    "    values.append(i[1])\n",
    "    keys.append(i[0])\n",
    "  plt.bar(keys,values)\n",
    "  plt.xticks(fontsize=10,rotation=90)\n",
    "  plt.yticks(fontsize=10)\n",
    "\n",
    "  for a,b in zip(keys, values):  #to add the value in the graph \n",
    "      plt.text(a, b, str(b))\n",
    "  plt.ylabel(\"Count\")\n",
    "  plt.title(\"Coulms with NA fields\")\n",
    "  plt.show()\n",
    "\n",
    "  #correlation graph\n",
    "  print('\\n')\n",
    "  import missingno as msno\n",
    "  fig, ax =plt.subplots(figsize = (8,5))\n",
    "  fig =msno.heatmap(df_1[keys],ax=ax)\n",
    "  plt.xticks(fontsize=10,rotation=90) #educing the fontsize and rotating the label to 90degree\n",
    "  plt.yticks(fontsize=10)\n",
    "  ax.set_title(\"\\n Missing values Correlation plot\")\n",
    "  plt.show()\n",
    "\n",
    "  # Applying threshold based on the model performance\n",
    "  a=[values.index(i) for i in values if i>= threshold]  #filtering with theshold & extracting the index\n",
    "  drop_columns_na= [keys[i] for i in a ] #storing dropping columns of na in list\n",
    "  print(\"\\n Columns need to be analysed for dopping are: : \",drop_columns_na)\n",
    "\n",
    "  # Null count for dropping column for converted & non converted cusomer is\n",
    "  for i in drop_columns_na:\n",
    "    print(\"Null count for converted & non converted customer on {} column is\\n\".format(i),df_1[\"QuoteConversion_Flag\"][df_1[i].isnull()].value_counts())\n",
    "\n",
    "  #dropping the NA column having percentage more than threshold\n",
    "  #df_1= df_1.drop(drop_columns_na,axis=1)\n",
    "  #print(\"\\nThe dimenson now is :\",df_1.shape)\n",
    "  #return df_1\n",
    "  return drop_columns_na,null_count\n"
   ]
  },
  {
   "cell_type": "code",
   "execution_count": 25,
   "metadata": {
    "colab": {
     "base_uri": "https://localhost:8080/",
     "height": 0
    },
    "id": "iyBplLHyo9Md",
    "outputId": "4593c5af-9f34-4f33-8479-a425ccb114f2"
   },
   "outputs": [
    {
     "name": "stdout",
     "output_type": "stream",
     "text": [
      "The columns/features which have atleast one NULL value are:\n",
      " Index(['PersonalField84', 'PropertyField29', 'PersonalField7',\n",
      "       'PropertyField3', 'PropertyField4', 'PropertyField32',\n",
      "       'PropertyField34', 'PropertyField36', 'PropertyField38',\n",
      "       'GeographicField63'],\n",
      "      dtype='object')\n",
      "\n",
      "Count of NA values in the columns are: \n",
      " {'PersonalField84': 124208, 'PropertyField29': 200685, 'PersonalField7': 113, 'PropertyField3': 81, 'PropertyField4': 63, 'PropertyField32': 70, 'PropertyField34': 70, 'PropertyField36': 113, 'PropertyField38': 1220, 'GeographicField63': 2}\n"
     ]
    },
    {
     "data": {
      "image/png": "[encoded data removed]",
      "text/plain": [
       "<Figure size 432x288 with 1 Axes>"
      ]
     },
     "metadata": {
      "needs_background": "light"
     },
     "output_type": "display_data"
    },
    {
     "name": "stdout",
     "output_type": "stream",
     "text": [
      "\n",
      "\n"
     ]
    },
    {
     "data": {
      "image/png": "[encoded data removed]",
      "text/plain": [
       "<Figure size 576x360 with 2 Axes>"
      ]
     },
     "metadata": {
      "needs_background": "light"
     },
     "output_type": "display_data"
    },
    {
     "name": "stdout",
     "output_type": "stream",
     "text": [
      "\n",
      " Columns need to be analysed for dopping are: :  ['PropertyField29']\n",
      "Null count for converted & non converted customer on PropertyField29 column is\n",
      " 0    151795\n",
      "1     48890\n",
      "Name: QuoteConversion_Flag, dtype: int64\n"
     ]
    }
   ],
   "source": [
    "#after the analysis the threshold is taken as 75%\n",
    "drop_columns_na_train,null_count = removing_col_NA(df,75)"
   ]
  },
  {
   "cell_type": "markdown",
   "metadata": {
    "id": "pGcnUphAlLqJ"
   },
   "source": [
    "#### Observation:\n",
    "\n",
    "* There are total 9 columns with atleast having 1 NA value in it.\n",
    "* PropertyField29 column is having 76.96% of NULL values in it and PersonalField84 column is having 47.63% of NULL values and rest of other columns are having les than 0.5% of NULL values\n",
    "* PropertyField29 & PersonalField84 columns are further analysed on decision to keep or remove from the features\n",
    "* For the total count of records \"Quote_conversion_flag is considered since we are dealing supervised learing algorithm where records with class label\n",
    "\n",
    "\n",
    "#### Observation from NA correlation graph\n",
    "\n",
    "* Below are the high correlated pair of columns for NA values\n",
    "  1. PropertyField3, PropertyField4 =0.9\n",
    "  2. PropertyField34,PropertyField32  =1\n",
    "  3. PropertyField36, PersonalField7 =1\n",
    "  4. PersonalField7,PropertyField34 =0.8\n",
    "  5. PersonalField7,PropertyField32 =0.8 \n",
    "* The values are close to positive 1 indicate that the presence of null values in one column is correlated with the presence of null values in another column\n",
    "\n",
    "* We obsevre that total of 6 columns from 10 columns are having higher correlation.So PropertyField3, PropertyField4,PropertyField34,PropertyField36,PropertyField32,PersonalField7 columns falls into <b>MCR/MCAR</b> (missing completely at random) category\n",
    "\n",
    "* 3 columns of Higher NULL count columns are dropped from the pair of correlated features\n",
    "* Values close to 0, indicate there is little to no relationship between the null values in one column compared to another.\n",
    "\n",
    "* PropertyField29,PersonalField84 columns are having less correlation with all other missing value columns. So these are independent NULL value columns.And these column are further analysed and dropped from the column if no pattern found with respect to target column. Also percentage of missing values are taken into account\n",
    "\n",
    "* PropertyField38,GeographicField63 columns are having 0 or less correlation with other NA columns. So these NA records can be imputed.\n"
   ]
  },
  {
   "cell_type": "code",
   "execution_count": 26,
   "metadata": {
    "colab": {
     "base_uri": "https://localhost:8080/"
    },
    "id": "U6nRcXGaCSUy",
    "outputId": "f4deb4e3-2240-4a8a-a91e-c6f6eedfc18d"
   },
   "outputs": [
    {
     "name": "stdout",
     "output_type": "stream",
     "text": [
      "PropertyField3 = 81\n",
      "PropertyField4 = 63\n",
      "PropertyField34 = 70\n",
      "PropertyField36 = 113\n",
      "PropertyField32 = 70\n",
      "PersonalField7 = 113\n"
     ]
    }
   ],
   "source": [
    "#there are totally 6 high positively high correlated column are present.\n",
    "for i in ['PropertyField3', 'PropertyField4','PropertyField34','PropertyField36','PropertyField32','PersonalField7']:\n",
    "   print(i,\"=\",null_count[i])"
   ]
  },
  {
   "cell_type": "markdown",
   "metadata": {
    "id": "SajNql9nVjvg"
   },
   "source": [
    "* From the correlated pair of columns, It is observed that the count of missing NULL values are comparatively less than the total count. So It is good to retain these columns and are exposed further for variance and correlation analysis :"
   ]
  },
  {
   "cell_type": "markdown",
   "metadata": {
    "id": "WktxXaetNGlN"
   },
   "source": [
    "### Analysing the \"PropertyField29\" column over NA & non-NA fields"
   ]
  },
  {
   "cell_type": "code",
   "execution_count": 27,
   "metadata": {
    "colab": {
     "base_uri": "https://localhost:8080/",
     "height": 0
    },
    "id": "iXkQJjs6NFyI",
    "outputId": "e0a32259-d65d-4f60-87dc-78f8a73b91b5"
   },
   "outputs": [
    {
     "name": "stdout",
     "output_type": "stream",
     "text": [
      "\n",
      " count of Label assigned to missing values are: \n",
      " 0    151795\n",
      "1     48890\n",
      "Name: QuoteConversion_Flag, dtype: int64\n"
     ]
    },
    {
     "data": {
      "text/plain": [
       "[]"
      ]
     },
     "execution_count": 27,
     "metadata": {},
     "output_type": "execute_result"
    },
    {
     "data": {
      "image/png": "[encoded data removed]",
      "text/plain": [
       "<Figure size 432x288 with 1 Axes>"
      ]
     },
     "metadata": {
      "needs_background": "light"
     },
     "output_type": "display_data"
    }
   ],
   "source": [
    "#Here we are analysing how many missing values are representing which target value\n",
    "a=df['QuoteConversion_Flag'][df['PropertyField29'].isna()]\n",
    "print(\"\\n count of Label assigned to missing values are: \\n\",a.value_counts())\n",
    "import seaborn as sns\n",
    "import matplotlib.pyplot as plt\n",
    "sns.countplot(a)\n",
    "plt.title(\"NA values count v/s Target value\")\n",
    "plt.plot()"
   ]
  },
  {
   "cell_type": "markdown",
   "metadata": {
    "id": "npaEt8KsNTOG"
   },
   "source": [
    "##### Observation:\n",
    "* We can see that there are 1,51,795 records are assigned as target value['QuoteConversion_Flag'] 0 for which \"PropertyField29\" column has no value in it\n",
    "* And for 48,890 records are assigned as target value 1 for which \"PropertyField29\" column has no value in it\n",
    "\n",
    "Conclusion:\n",
    "* 75.63% of the missing records from the \"PropertyField29\" column are labelled as 0  and remaining 24.37% as class 1. Which means we have more dataloss for class 0 in this column"
   ]
  },
  {
   "cell_type": "markdown",
   "metadata": {
    "id": "D2qgGXQaNWq-"
   },
   "source": [
    "##### Analysing for not NaN value for \"PropertyField29\". Checking the other values distribution over class label"
   ]
  },
  {
   "cell_type": "code",
   "execution_count": 28,
   "metadata": {
    "id": "FJ4FLpAjNQPO"
   },
   "outputs": [],
   "source": [
    "#to check not nan -->>https://stackoverflow.com/questions/2831516/isnotnan-functionality-in-numpy-can-this-be-more-pythonic\n",
    "#storing the each unique value in list and analysing the contribution towrds the class label\n",
    "#unique_value=np.zeros(len(np.unique(df['PropertyField29'])))\n",
    "field_val=[]\n",
    "class_1=[]\n",
    "class_0=[]\n",
    "for j,i in enumerate(np.unique(df['PropertyField29'])) :\n",
    "  if ~np.isnan(i): #if i is not null value then\n",
    "    a=dict(df['QuoteConversion_Flag'][df['PropertyField29']==i].value_counts())\n",
    "    #when filed value is missing for one of the target table so updating by default zero\n",
    "    class_1.append(0)\n",
    "    class_0.append(0)\n",
    "    field_val.append(i)\n",
    "    if 0 in list(a.keys()): \n",
    "      class_0[j]=a[0] \n",
    "    if 1 in list(a.keys()):\n",
    "      class_1[j]=a[1]"
   ]
  },
  {
   "cell_type": "code",
   "execution_count": 29,
   "metadata": {
    "colab": {
     "base_uri": "https://localhost:8080/",
     "height": 0
    },
    "id": "m0GE4WUKNaWe",
    "outputId": "92fe7705-1744-4602-dbba-2108ce89c40d",
    "scrolled": true
   },
   "outputs": [
    {
     "data": {
      "image/png": "[encoded data removed]",
      "text/plain": [
       "<Figure size 432x288 with 1 Axes>"
      ]
     },
     "metadata": {
      "needs_background": "light"
     },
     "output_type": "display_data"
    }
   ],
   "source": [
    "#https://www.geeksforgeeks.org/plotting-multiple-bar-charts-using-matplotlib-in-python/\n",
    "import numpy as np\n",
    "import matplotlib.pyplot as plt \n",
    "X_axis = np.arange(len(field_val))\n",
    "plt.bar(X_axis - 0.2, class_0, 0.4, label = 'class_0')\n",
    "plt.bar(X_axis + 0.2, class_1, 0.4, label = 'class_1') #width=0.4 units \n",
    "plt.xticks(X_axis, field_val) #(location,label)\n",
    "plt.xlabel(\"Groups\")\n",
    "plt.ylabel(\"conversion count\")\n",
    "plt.title(\"Conversion count each unique value v/s class label\")\n",
    "plt.legend()\n",
    "plt.show()"
   ]
  },
  {
   "cell_type": "code",
   "execution_count": 30,
   "metadata": {
    "colab": {
     "base_uri": "https://localhost:8080/"
    },
    "id": "Lmswnx0jNeVf",
    "outputId": "8dfab644-b87f-40d8-f9a0-47f1ac47bbbb"
   },
   "outputs": [
    {
     "name": "stdout",
     "output_type": "stream",
     "text": [
      "filed values: [0.0, 1.0]\n",
      "class_0 counts [60056, 8]\n",
      "class_1 counts [0, 4]\n"
     ]
    },
    {
     "data": {
      "text/plain": [
       "[(0.0, 99.98002264100685), (1.0, 0.013318239328760736)]"
      ]
     },
     "execution_count": 30,
     "metadata": {},
     "output_type": "execute_result"
    }
   ],
   "source": [
    "print(\"filed values:\",field_val)\n",
    "print(\"class_0 counts\",class_0)\n",
    "print(\"class_1 counts\",class_1)\n",
    "total_count= class_0 + class_1\n",
    "list(zip(field_val,((total_count)/sum(total_count)*100)))"
   ]
  },
  {
   "cell_type": "markdown",
   "metadata": {
    "id": "iqKEljHiNiM_"
   },
   "source": [
    "##### Observation: \n",
    "* This column is having total of 200685 records with NULL values out of 260753 records which comes around 76.96% . So here removing all the records with NULL values is not good idea\n",
    "\n",
    "* There are 60068(23.04%) records which are having value/non-NA in PropertyField29 column. Among these 60056(99.8%) are having 0.0 value for PropertyField29 column & 12(0.013%) records are having 1.0 value.\n",
    "\n",
    "\n",
    "* 99.98% percentage of non missing values are assigned as value 0.0. Among these 99.86% percentge values of 0.0 are belongs to class_0 which is highly skewed in terms fo class label assignment as well as distinct value comparison among other values\n",
    "\n",
    "Conclusion:\n",
    "* Identified pattern:For missing value imputation records with class 0 can be assigned as 0.0 and for records with class 1 as 1.0 \n",
    "* However we can see that data is highy skewed of having low variance value(99.9% of non-missing value as 0.0). As data is not spread in making the decision of target value. So this column can be further checked/analysed in low varaince check and can be dropped\n",
    "* From the missing value correlation graph(NA graph), It is observed that this column is not having relation with other missing values column. So PropertyField29 column can be safely dropped\n"
   ]
  },
  {
   "cell_type": "markdown",
   "metadata": {
    "id": "OnnfhNItM6B3"
   },
   "source": [
    "### Analysing the \"PersonalField84\" column over NA & non-NA fields"
   ]
  },
  {
   "cell_type": "code",
   "execution_count": 31,
   "metadata": {
    "colab": {
     "base_uri": "https://localhost:8080/",
     "height": 0
    },
    "id": "I8kGe1mCQw3L",
    "outputId": "424aebdf-7cec-4fee-85d3-9c50bc06953e"
   },
   "outputs": [
    {
     "name": "stdout",
     "output_type": "stream",
     "text": [
      "\n",
      " count of Label assigned to missing values are: \n",
      " 0    100126\n",
      "1     24082\n",
      "Name: QuoteConversion_Flag, dtype: int64\n"
     ]
    },
    {
     "data": {
      "text/plain": [
       "[]"
      ]
     },
     "execution_count": 31,
     "metadata": {},
     "output_type": "execute_result"
    },
    {
     "data": {
      "image/png": "[encoded data removed]",
      "text/plain": [
       "<Figure size 432x288 with 1 Axes>"
      ]
     },
     "metadata": {
      "needs_background": "light"
     },
     "output_type": "display_data"
    }
   ],
   "source": [
    "#Here we are analysing how many missing values are representing which target value\n",
    "a=df['QuoteConversion_Flag'][df['PersonalField84'].isna()]\n",
    "print(\"\\n count of Label assigned to missing values are: \\n\",a.value_counts())\n",
    "import seaborn as sns\n",
    "import matplotlib.pyplot as plt\n",
    "sns.countplot(a)\n",
    "plt.title(\"NA values count v/s Target value for PersonalField84\")\n",
    "plt.plot()"
   ]
  },
  {
   "cell_type": "markdown",
   "metadata": {
    "id": "4SpanUehoGmJ"
   },
   "source": [
    "#### Observation:\n",
    "* We can see that there are 1,00,126 records are assigned as target value 0 for which \"PersonalField84\" column has no value in it\n",
    "* And for 24,082 records are assigned as target value 1 for which \"PersonalField84\" column has no value in it\n",
    "\n",
    "Conclusion:\n",
    "* 80.61% of the missing records from the \"PersonalField84\" column are labelled as 0  and remaining as class 1. Which means we have more dataloss for class 0 in this column"
   ]
  },
  {
   "cell_type": "markdown",
   "metadata": {
    "id": "vVyHnpQCBAIR"
   },
   "source": [
    "#### Analysing for not NaN value for \"PersonalField84\". Checking the other values distribution over class label"
   ]
  },
  {
   "cell_type": "code",
   "execution_count": 32,
   "metadata": {
    "id": "PripYOu6shn5"
   },
   "outputs": [],
   "source": [
    "#to check not nan -->>https://stackoverflow.com/questions/2831516/isnotnan-functionality-in-numpy-can-this-be-more-pythonic\n",
    "#storing the each unique value in list and analysing the contribution towrds the class label\n",
    "unique_value=np.zeros(len(np.unique(df['PersonalField84'])))\n",
    "field_val=[]\n",
    "class_1=[]\n",
    "class_0=[]\n",
    "for j,i in enumerate(np.unique(df['PersonalField84'])) :\n",
    "  if ~np.isnan(i):\n",
    "    a=dict(df['QuoteConversion_Flag'][df['PersonalField84']==i].value_counts())\n",
    "    class_1.append(0)\n",
    "    class_0.append(0)\n",
    "    field_val.append(i)\n",
    "    if 0 in list(a.keys()):\n",
    "      class_0[j]=a[0] \n",
    "    if 1 in list(a.keys()):\n",
    "      class_1[j]=a[1]"
   ]
  },
  {
   "cell_type": "code",
   "execution_count": 33,
   "metadata": {
    "colab": {
     "base_uri": "https://localhost:8080/",
     "height": 0
    },
    "id": "wrodShGD3zxO",
    "outputId": "6d022d30-d9e7-475e-d62f-a7f0f144b4c9"
   },
   "outputs": [
    {
     "data": {
      "image/png": "[encoded data removed]",
      "text/plain": [
       "<Figure size 432x288 with 1 Axes>"
      ]
     },
     "metadata": {
      "needs_background": "light"
     },
     "output_type": "display_data"
    }
   ],
   "source": [
    "#https://www.geeksforgeeks.org/plotting-multiple-bar-charts-using-matplotlib-in-python/\n",
    "import numpy as np\n",
    "import matplotlib.pyplot as plt \n",
    "X_axis = np.arange(len(field_val))\n",
    "plt.bar(X_axis - 0.2, class_0, 0.4, label = 'class_0')\n",
    "plt.bar(X_axis + 0.2, class_1, 0.4, label = 'class_1') #width=0.4 units \n",
    "plt.xticks(X_axis, field_val) #(location,label)\n",
    "plt.xlabel(\"Groups\")\n",
    "plt.ylabel(\"conversion count\")\n",
    "plt.title(\"Conversion count each unique value v/s class label\")\n",
    "plt.legend()\n",
    "plt.show()"
   ]
  },
  {
   "cell_type": "code",
   "execution_count": 34,
   "metadata": {
    "colab": {
     "base_uri": "https://localhost:8080/"
    },
    "id": "nRFGf9WGBurr",
    "outputId": "16a13f7c-6ad6-4e5a-b53f-83c60d6889cc"
   },
   "outputs": [
    {
     "name": "stdout",
     "output_type": "stream",
     "text": [
      "filed values: [1.0, 2.0, 3.0, 4.0, 5.0, 7.0, 8.0]\n",
      "class_0 counts [737, 110957, 3, 0, 34, 1, 1]\n",
      "class_1 counts [827, 23949, 4, 2, 28, 2, 0]\n"
     ]
    },
    {
     "data": {
      "text/plain": [
       "[(1.0, 0.5397488007616537),\n",
       " (2.0, 81.26039034750448),\n",
       " (3.0, 0.0021970778864110734),\n",
       " (4.0, 0.0),\n",
       " (5.0, 0.02490021604599216),\n",
       " (7.0, 0.0007323592954703577),\n",
       " (8.0, 0.0007323592954703577)]"
      ]
     },
     "execution_count": 34,
     "metadata": {},
     "output_type": "execute_result"
    }
   ],
   "source": [
    "print(\"filed values:\",field_val)\n",
    "print(\"class_0 counts\",class_0)\n",
    "print(\"class_1 counts\",class_1)\n",
    "total_count= class_0 + class_1\n",
    "list(zip(field_val,((total_count)/sum(total_count)*100)))"
   ]
  },
  {
   "cell_type": "markdown",
   "metadata": {
    "id": "LImRxdxPAysI"
   },
   "source": [
    "#### Observation:\n",
    "* This column is having total of 124208 records with NULL values out of 260753 records which comes around 47.63% \n",
    "* 81% percentage of non missing values are assigned as 2. Among these 82.5% percentge values of 2 are belongs to class_0 \n",
    "\n",
    "Conclusion:\n",
    "* For missing value imputation records with class 0 can be assigned as 2 by considering the \"mode\" method.Since the data is not missing completely at random.So values will be imputed for this column"
   ]
  },
  {
   "cell_type": "code",
   "execution_count": 35,
   "metadata": {
    "colab": {
     "base_uri": "https://localhost:8080/"
    },
    "id": "GfJVrkxJHCXo",
    "outputId": "1f8a4291-b734-4711-d379-7aad6bf52451"
   },
   "outputs": [
    {
     "name": "stdout",
     "output_type": "stream",
     "text": [
      "\n",
      "dimension of input now:  (260753, 291)\n"
     ]
    }
   ],
   "source": [
    "df= df.drop(drop_columns_na_train,axis=1)\n",
    "print(\"\\ndimension of input now: \",df.shape)"
   ]
  },
  {
   "cell_type": "markdown",
   "metadata": {
    "id": "VZWNf1A42R8Z"
   },
   "source": [
    "\n",
    "### Observations\n",
    "\n",
    "* There are total 9 columns with atleast having 1 NA value in it.\n",
    "* For the total count of records \"Quote_conversion_flag is considered since we are dealing supervised learing algorithm where records with class label\n",
    "\n",
    "PropertyField29:\n",
    "*  This column is having total of 200685 records with NULL values out of 260753 records which comes around 76.9% \n",
    "* Among 200685 records are splits into 151795 records with NULL values which classify \"QuoteConversion_flag to class 0 & other 48890 records with NULL values classifis the \"QuoteConversion_flag\" to class 1\n",
    "* The above interpretation does not give any value since NULL does not carry any information on both the classes\n",
    "* By considering above condition threshold is set to 75 and column is dropped\n",
    "\n",
    "PersonalField84:\n",
    "*  This column is having total of 124208 records with NULL values out of 260753 records which comes around 47.63% \n",
    "* Among 200685 records are splits into 100126 records with NULL values which classify \"QuoteConversion_flag to class 0 & other 24082 records with NULL values classifis the \"QuoteConversion_flag\" to class 1\n",
    "* The above interpretation does not give any value since NULL does not carry any information on both the classes. So this column is further exposed to correlation and variance checks"
   ]
  },
  {
   "cell_type": "markdown",
   "metadata": {
    "id": "XbpMVlvbNu27"
   },
   "source": [
    "### Removing the feature with low variance"
   ]
  },
  {
   "cell_type": "code",
   "execution_count": 36,
   "metadata": {
    "id": "d36G_mOP5Xfv"
   },
   "outputs": [],
   "source": [
    "def remove_low_var(df_1,var_threshold):\n",
    "  \"\"\"Variance will be calculated for numeric values only \"\"\"\n",
    "\n",
    "  # Seperating categorical & Numerical column based on \"dtype\" function & storinf in list\n",
    "  cat_features=[i for i in df_1.columns if df_1.dtypes[i]=='object']\n",
    "  numerical_features=list(set(df_1.columns)-set(cat_features))\n",
    "  \n",
    "  var_dict=df_1[numerical_features].var().to_dict() #calculation var of numeric columns and storing in dictionary\n",
    "\n",
    "  #filtering the features/columns baed on the variance threshold\n",
    "  below_threshold_keys=[] #storing the columns above variance threshold\n",
    "  below_threshold_values=[] #storing threshold values\n",
    "  for i,j in var_dict.items():\n",
    "    if j<var_threshold:        #var_threshold= 0.001\n",
    "      below_threshold_keys.append(i)\n",
    "      below_threshold_values.append(j)\n",
    "\n",
    "  #printing the threshold columns & values\n",
    "  print(\"\\n Columns having values below var_threshold:\\n\", dict(zip(below_threshold_keys,below_threshold_values)))\n",
    "\n",
    "  #variance bar graph\n",
    "  print(\"\\nThe Low variance Graph\\n\")\n",
    "  import matplotlib.pyplot as plt\n",
    "  \"\"\" Bar graph for columns having variance below than threshold values\"\"\"\n",
    "\n",
    "  plt.bar(below_threshold_keys,below_threshold_values)\n",
    "  plt.xticks(rotation=90) #adjusting the X labels into 90 degree for better visual\n",
    "  for a,b in zip(below_threshold_keys, below_threshold_values): \n",
    "    plt.text(a, b, str(round(b,4)))\n",
    "  plt.ylabel(\"Variance\")\n",
    "  plt.title(\"Coulms with Zero Variance \")\n",
    "  plt.show()\n",
    "\n",
    "  return below_threshold_keys,var_dict\n"
   ]
  },
  {
   "cell_type": "code",
   "execution_count": 37,
   "metadata": {
    "colab": {
     "base_uri": "https://localhost:8080/",
     "height": 0
    },
    "id": "hrjAV_Ng8nRQ",
    "outputId": "f6f9352e-4abf-4dc5-df43-cf4b440723f3"
   },
   "outputs": [
    {
     "name": "stdout",
     "output_type": "stream",
     "text": [
      "\n",
      " Columns having values below var_threshold:\n",
      " {'PropertyField6': 0.0, 'PersonalField65': 0.0006285829519531464, 'PersonalField66': 0.0008162739318116953, 'PropertyField5': 0.0004446692474385784, 'PersonalField8': 0.0001572151580565965, 'PersonalField64': 0.0004753287382687196, 'GeographicField10A': 0.0, 'PersonalField69': 0.0007131802180194005, 'PropertyField20': 9.970683808670657e-05, 'PropertyField9': 8.053204451520408e-05, 'Field9': 2.207506609201729e-06}\n",
      "\n",
      "The Low variance Graph\n",
      "\n"
     ]
    },
    {
     "data": {
      "image/png": "[encoded data removed]",
      "text/plain": [
       "<Figure size 432x288 with 1 Axes>"
      ]
     },
     "metadata": {
      "needs_background": "light"
     },
     "output_type": "display_data"
    },
    {
     "name": "stdout",
     "output_type": "stream",
     "text": [
      " dimension of input now:  (260753, 280)\n"
     ]
    }
   ],
   "source": [
    "below_threshold_keys,var_dict = remove_low_var(df,0.001)\n",
    "df= df.drop(below_threshold_keys,axis=1)\n",
    "print(\" dimension of input now: \",df.shape)\n"
   ]
  },
  {
   "cell_type": "markdown",
   "metadata": {
    "id": "aZgrOyL0EeFS"
   },
   "source": [
    "### Observations\n",
    "* Here variance threshold is set to 10^-3 which can be increased or decreased based on the model performace\n",
    "* There are total of 11 features are having variance less than or equals to 10-3 values. Maximum values are repeated in the columns\n"
   ]
  },
  {
   "cell_type": "markdown",
   "metadata": {
    "id": "M-zdSrP58Y8Z"
   },
   "source": [
    "### Removing the columns which has very High variance/More distinct values"
   ]
  },
  {
   "cell_type": "code",
   "execution_count": 38,
   "metadata": {
    "id": "6QVIXQcc-k3X"
   },
   "outputs": [],
   "source": [
    "def remove_high_var(df_1,var_dict,high_var_threshold):\n",
    "  \"\"\" Removing the columns having high variance or having more distinct values\"\"\"\n",
    "  # Seperating categorical & Numerical column based on \"dtype\" function & storinf in list\n",
    "  cat_features=[i for i in df_1.columns if df_1.dtypes[i]=='object']\n",
    "  numerical_features=list(set(df_1.columns)-set(cat_features))\n",
    "\n",
    "  #based on the threshold value removing the columns\n",
    "  high_var_keys=[]\n",
    "  high_var_values=[]\n",
    "  for i, j in var_dict.items():\n",
    "    if j>high_var_threshold and len(df[i].value_counts()) > 10 : # here length parameter cares about the distinct values ,high_var_threshold=100\n",
    "      high_var_keys.append(i)\n",
    "      high_var_values.append(j)\n",
    "\n",
    "  print(\"Listing the high variance columns & values for above threshold\",list(zip(high_var_keys,high_var_values)))\n",
    "\n",
    "  #variance bar graph\n",
    "  print(\"\\nThe High variance Graph\\n\")\n",
    "  import matplotlib.pyplot as plt\n",
    "  \"\"\" Bar graph for columns having higher variance values\"\"\"\n",
    "\n",
    "  plt.bar(high_var_keys,high_var_values)\n",
    "  plt.xticks(rotation=90) #adjusting the X labels into 90 degree for better visual\n",
    "  for a,b in zip(high_var_keys, high_var_values): \n",
    "    plt.text(a, b, str(round(b,2)))\n",
    "  plt.ylabel(\"Variance\")\n",
    "  plt.title(\"Coulms with High Variance \")\n",
    "  plt.show()\n",
    "\n",
    "\n",
    "  return high_var_keys"
   ]
  },
  {
   "cell_type": "code",
   "execution_count": 39,
   "metadata": {
    "colab": {
     "base_uri": "https://localhost:8080/",
     "height": 0
    },
    "id": "2aQk7DDU9us7",
    "outputId": "4504180e-76f5-4eaa-bcd1-f47518906344"
   },
   "outputs": [
    {
     "name": "stdout",
     "output_type": "stream",
     "text": [
      "Listing the high variance columns & values for above threshold [('QuoteNumber', 15744859642.268942), ('SalesField8', 378074846.7725287)]\n",
      "\n",
      "The High variance Graph\n",
      "\n"
     ]
    },
    {
     "data": {
      "image/png": "[encoded data removed]",
      "text/plain": [
       "<Figure size 432x288 with 1 Axes>"
      ]
     },
     "metadata": {
      "needs_background": "light"
     },
     "output_type": "display_data"
    },
    {
     "name": "stdout",
     "output_type": "stream",
     "text": [
      "\n",
      "dimension of input now:  (260753, 278)\n"
     ]
    }
   ],
   "source": [
    "high_var_keys = remove_high_var(df,var_dict,100)\n",
    "df= df.drop(high_var_keys,axis=1)\n",
    "print(\"\\ndimension of input now: \",df.shape)"
   ]
  },
  {
   "cell_type": "markdown",
   "metadata": {
    "id": "PtlhXEX_qTwM"
   },
   "source": [
    "### Observation\n",
    "* After looking at some sample records for each columns. Threshold selected as 100 and length of distinct value is set as more than 10 in which there are 2 column with high variance.\n",
    "* \"QuoteNumber\" is the customer identification number which is unque for each record. So this does not give any information and can be dropped\n",
    "* 'SalesField8' column is having high variance among all the columns. So it can alo be dropped \n",
    "* 'Field10' has high variance but it has less distinct values in it. So it can be categorised. So standardization is applied on this column"
   ]
  },
  {
   "cell_type": "markdown",
   "metadata": {
    "id": "BEmEBvjppoP_"
   },
   "source": [
    "#### Removing the highly correlated features "
   ]
  },
  {
   "cell_type": "code",
   "execution_count": 40,
   "metadata": {
    "id": "pkx-KpXqQEKn"
   },
   "outputs": [],
   "source": [
    "def remove_corr_col(df_1,corr_threshold):\n",
    "  \"\"\" Removing the correlated features\"\"\"\n",
    "  # Seperating categorical & Numerical column based on \"dtype\" function & storinf in list\n",
    "  cat_features=[i for i in df_1.columns if df_1.dtypes[i]=='object']\n",
    "  numerical_features=list(set(df_1.columns)-set(cat_features))\n",
    "\n",
    "  #calculation correlation for numericl features\n",
    "  corr_matrix=df_1[numerical_features].corr()\n",
    "\n",
    "  \"\"\"It is the square matrix so indices values for i,j =j,i\n",
    "  Also here diagonal elements are removed  \n",
    "  ex: corr_threshold = 0.99\"\"\"\n",
    "  import numpy as np\n",
    "  upper_triangle=np.triu(corr_matrix ,1) #upper triangular matrix\n",
    "  indices=np.where(abs(upper_triangle)>corr_threshold) #it gives the indices of \"TRUE\" values in the rows & columns array respectively\n",
    "\n",
    "  #storing only highly correlted column values\n",
    "  Correlted_value=upper_triangle[indices]\n",
    "\n",
    "  indices_99_corr=np.stack((indices[0],indices[1])).flatten() #stacking the indices of correlated columns(combining row/column indices)\n",
    "  all_corr_columns=len(corr_matrix.columns[list(set(indices_99_corr))]) #getting the length of correlated columns\n",
    "  print(\"\\nThe {} % correlated columns count is: \".format(corr_threshold*100),all_corr_columns) \n",
    "\n",
    "  #storing the correlated column pairs & values in dictionary\n",
    "  storage=dict()\n",
    "  for i in range(len(indices[0])):\n",
    "    storage[(corr_matrix.columns[indices[0][i]],corr_matrix.columns[indices[1][i]])]=Correlted_value[i] #(row,column)= correlated_value\n",
    "  print(\"\\n the correlated pairs of columns nd values are: \\n\",storage)\n",
    "\n",
    "  #Selecting the features among the correlated pairs\n",
    "  set1=set()\n",
    "  set2=set()\n",
    "  drop_columns_corr=[]\n",
    "  for i in range(len(indices[0])): #iterating over indices\n",
    "    set1.add(corr_matrix.columns[indices[0][i]]) #getting the column names from first pair\n",
    "    set2.add(corr_matrix.columns[indices[1][i]]) #getting the column names from second pair\n",
    "  \n",
    "  if len(set1)>len(set2): #here choosing the minimum number of columns to retain & removing the maximum side of correlated features\n",
    "    drop_columns_corr.append(list(set2))\n",
    "  elif len(set1)< len(set2):\n",
    "    drop_columns_corr.append(list(set2)) \n",
    "  else:\n",
    "    drop_columns_corr.append(list(set1))\n",
    "\n",
    "  print(\"\\n Correlation graph for threshold columns\")\n",
    "  import seaborn as sns\n",
    "  fig, ax = plt.subplots(figsize=(15,10)) \n",
    "  sns.heatmap(corr_matrix.iloc[list(indices_99_corr),list(indices_99_corr)], cmap=\"YlGnBu\",linewidths=0.8,ax=ax)\n",
    "  plt.show()\n",
    "  \n",
    "  print(\"Among {} correlated columns {} columns are dropped\".format(all_corr_columns,len(drop_columns_corr[0])))\n",
    "  print(\"\\nThe dropping correlated column are: \",drop_columns_corr[0])\n",
    "\n",
    "  #df_1=df_1.drop(drop_columns_corr[0],axis=1)\n",
    "  #print(\"Shape of dataframe now is: \",df_1.shape)\n",
    "  return drop_columns_corr[0]\n"
   ]
  },
  {
   "cell_type": "code",
   "execution_count": 41,
   "metadata": {
    "colab": {
     "base_uri": "https://localhost:8080/",
     "height": 0
    },
    "id": "5BNO638l_MQd",
    "outputId": "99c58b99-c00c-4d94-8cc5-a7220b1b49d8",
    "scrolled": false
   },
   "outputs": [
    {
     "name": "stdout",
     "output_type": "stream",
     "text": [
      "\n",
      "The 99.0 % correlated columns count is:  20\n",
      "\n",
      " the correlated pairs of columns nd values are: \n",
      " {('GeographicField11A', 'GeographicField13A'): 0.9973230894984385, ('GeographicField11A', 'GeographicField8A'): 0.994179781884102, ('GeographicField11A', 'GeographicField6A'): 0.9942259289495805, ('GeographicField7B', 'GeographicField12B'): 0.9954205027425153, ('GeographicField3A', 'GeographicField3B'): 0.9917245814376491, ('GeographicField52B', 'GeographicField52A'): 0.9907507713250117, ('GeographicField52B', 'GeographicField51B'): 0.9901664205536312, ('GeographicField2A', 'GeographicField2B'): 0.9915598126577991, ('GeographicField13A', 'GeographicField8A'): 0.9960264064833747, ('GeographicField13A', 'GeographicField6A'): 0.9922009476400099, ('GeographicField52A', 'GeographicField51A'): 0.990052081234909, ('PropertyField21B', 'CoverageField1B'): 0.9963897788431348, ('CoverageField1A', 'PropertyField21A'): 0.9957095943453519, ('GeographicField8A', 'GeographicField6A'): 0.9962764597341486, ('GeographicField12A', 'GeographicField7A'): 0.9912093036477657}\n",
      "\n",
      " Correlation graph for threshold columns\n"
     ]
    },
    {
     "data": {
      "image/png": "[encoded data removed]",
      "text/plain": [
       "<Figure size 1080x720 with 2 Axes>"
      ]
     },
     "metadata": {
      "needs_background": "light"
     },
     "output_type": "display_data"
    },
    {
     "name": "stdout",
     "output_type": "stream",
     "text": [
      "Among 20 correlated columns 12 columns are dropped\n",
      "\n",
      "The dropping correlated column are:  ['GeographicField51B', 'CoverageField1B', 'GeographicField12B', 'GeographicField13A', 'GeographicField6A', 'PropertyField21A', 'GeographicField8A', 'GeographicField7A', 'GeographicField51A', 'GeographicField52A', 'GeographicField2B', 'GeographicField3B']\n",
      "\n",
      "dimension of input now:  (260753, 266)\n"
     ]
    }
   ],
   "source": [
    "drop_columns_corr = remove_corr_col(df,0.99)\n",
    "df= df.drop(drop_columns_corr,axis=1)\n",
    "print(\"\\ndimension of input now: \",df.shape)"
   ]
  },
  {
   "cell_type": "markdown",
   "metadata": {
    "id": "1BGFItuh63NM"
   },
   "source": [
    "#### Observations\n",
    "* Here correlation threshold is set to 0.99 which can be decreased based on the model performace\n",
    "* There are total of 20 features are having high correlation among each other. Among them 12 features are removed. Here for dropping the columns, priority is taken based on the length of right & left side elements. Keeping the minimum number of columns helps in reducing the dimension."
   ]
  },
  {
   "cell_type": "code",
   "execution_count": 42,
   "metadata": {
    "colab": {
     "base_uri": "https://localhost:8080/"
    },
    "id": "wjX5MjwdArIP",
    "outputId": "86463142-d5e9-4cd6-9a8e-a557f916fb11"
   },
   "outputs": [
    {
     "name": "stdout",
     "output_type": "stream",
     "text": [
      "The number of columns are dropped from original features are :  33\n"
     ]
    }
   ],
   "source": [
    "#dropped column from all the above analysis\n",
    "dropped_columns =  below_threshold_keys + high_var_keys + drop_columns_corr +drop_columns_na_train+dropping_cat_feat\n",
    "print(\"The number of columns are dropped from original features are : \", len(dropped_columns))"
   ]
  },
  {
   "cell_type": "markdown",
   "metadata": {
    "id": "6syveaduBdNM"
   },
   "source": [
    "Observation:\n",
    "* Total 33 columns are dropped from the above feature engineering analysis."
   ]
  },
  {
   "cell_type": "code",
   "execution_count": 43,
   "metadata": {
    "id": "raluw9wjDVMG"
   },
   "outputs": [],
   "source": [
    "#https://stackoverflow.com/questions/899103/writing-a-list-to-a-file-with-python\n",
    "import pickle\n",
    "with open(\"dropped_columns\", \"wb\") as fp:   #Pickling\n",
    "  pickle.dump(dropped_columns, fp)"
   ]
  },
  {
   "cell_type": "code",
   "execution_count": 44,
   "metadata": {
    "id": "iIWWfYKcErnJ"
   },
   "outputs": [],
   "source": [
    "import pickle\n",
    "with open ('dropped_columns', 'rb') as fp:\n",
    "    itemlist = pickle.load(fp)\n",
    "    "
   ]
  },
  {
   "cell_type": "markdown",
   "metadata": {
    "id": "3vfhe7lGNh1I"
   },
   "source": [
    "### Standardizing the float value"
   ]
  },
  {
   "cell_type": "code",
   "execution_count": 45,
   "metadata": {
    "id": "Bsid7HpLNsSn"
   },
   "outputs": [],
   "source": [
    "cat_features=[i for i in df.columns if df.dtypes[i]=='object']\n",
    "numerical_features=list(set(df.columns)-set(cat_features))"
   ]
  },
  {
   "cell_type": "code",
   "execution_count": 46,
   "metadata": {
    "colab": {
     "base_uri": "https://localhost:8080/"
    },
    "id": "EGeKZXc-SDyh",
    "outputId": "30ab116e-4d9a-4447-d7f9-3f9212e468cc"
   },
   "outputs": [
    {
     "name": "stdout",
     "output_type": "stream",
     "text": [
      "['Field7', 'SalesField11', 'Field10', 'PersonalField14', 'SalesField12']\n"
     ]
    }
   ],
   "source": [
    "#https://stackoverflow.com/questions/34148815/check-if-a-pandas-series-has-at-least-one-item-greater-than-a-value\n",
    "std_threshold =25\n",
    "std_columns=[]\n",
    "for i in numerical_features:\n",
    "  if (df[i]>std_threshold).any():\n",
    "    std_columns.append(i)\n",
    "print(std_columns)  "
   ]
  },
  {
   "cell_type": "code",
   "execution_count": 47,
   "metadata": {
    "id": "KxMsiwYMR03x"
   },
   "outputs": [],
   "source": [
    "from sklearn.preprocessing import StandardScaler\n",
    "scaler = StandardScaler()\n",
    "scaled = scaler.fit_transform(df[std_columns])\n",
    "df[std_columns]=scaled"
   ]
  },
  {
   "cell_type": "code",
   "execution_count": 48,
   "metadata": {
    "colab": {
     "base_uri": "https://localhost:8080/"
    },
    "id": "WVoT7h2-Svhj",
    "outputId": "e687c582-c3de-4600-bfbd-602d4cee1ea6"
   },
   "outputs": [
    {
     "name": "stdout",
     "output_type": "stream",
     "text": [
      "train input data:  (260753, 266)\n"
     ]
    }
   ],
   "source": [
    "print(\"train input data: \",df.shape)"
   ]
  },
  {
   "cell_type": "markdown",
   "metadata": {
    "id": "MTrwC-Z-lEt6"
   },
   "source": [
    "### Feature Engineering & EDA"
   ]
  },
  {
   "cell_type": "markdown",
   "metadata": {
    "id": "ayWqIIO8llro"
   },
   "source": [
    "* Extracting information from \"Original_Quote_Date\" column(Month, year,Day,week of the year)\n",
    "* Analysing the data with FULL train data"
   ]
  },
  {
   "cell_type": "code",
   "execution_count": 49,
   "metadata": {
    "id": "kjeKKQ1BPM9I"
   },
   "outputs": [],
   "source": [
    "#https://stackoverflow.com/questions/56152408/how-to-convert-string-to-numpy-datetime64-from-a-dataframe\n",
    "#https://www.programiz.com/python-programming/datetime/strftime  -->> to know the syntax of strftime\n",
    "\n",
    "def extract_date_feat(df_1):\n",
    "  \"\"\" Converting string values to datetime64 datatype\n",
    "  strftime is used to convert the date into string        \"\"\"\n",
    "  df_1[\"date\"]=df_1['Original_Quote_Date'].map(lambda i: int(i.strftime(\"%d\")))\n",
    "  df_1[\"weekday_name\"]=df_1['Original_Quote_Date'].map(lambda i : i.strftime(\"%A\"))\n",
    "  df_1[\"month\"]=df_1['Original_Quote_Date'].map(lambda i : int(i.strftime(\"%m\")))\n",
    "  df_1[\"year\"]=df_1['Original_Quote_Date'].map(lambda i : int(i.strftime(\"%Y\")))\n",
    "\n",
    "  return df_1"
   ]
  },
  {
   "cell_type": "code",
   "execution_count": 52,
   "metadata": {
    "colab": {
     "base_uri": "https://localhost:8080/",
     "height": 0
    },
    "id": "Jbxwq6P2YxqA",
    "outputId": "e224baa8-0d7b-4b38-ee50-83d437534393"
   },
   "outputs": [
    {
     "name": "stdout",
     "output_type": "stream",
     "text": [
      "datetime64[ns]\n"
     ]
    },
    {
     "data": {
      "text/html": [
       "<div>\n",
       "<style scoped>\n",
       "    .dataframe tbody tr th:only-of-type {\n",
       "        vertical-align: middle;\n",
       "    }\n",
       "\n",
       "    .dataframe tbody tr th {\n",
       "        vertical-align: top;\n",
       "    }\n",
       "\n",
       "    .dataframe thead th {\n",
       "        text-align: right;\n",
       "    }\n",
       "</style>\n",
       "<table border=\"1\" class=\"dataframe\">\n",
       "  <thead>\n",
       "    <tr style=\"text-align: right;\">\n",
       "      <th></th>\n",
       "      <th>Original_Quote_Date</th>\n",
       "      <th>QuoteConversion_Flag</th>\n",
       "      <th>Field7</th>\n",
       "      <th>Field8</th>\n",
       "      <th>Field10</th>\n",
       "      <th>Field11</th>\n",
       "      <th>CoverageField1A</th>\n",
       "      <th>CoverageField2A</th>\n",
       "      <th>CoverageField2B</th>\n",
       "      <th>CoverageField3A</th>\n",
       "      <th>...</th>\n",
       "      <th>PropertyField32</th>\n",
       "      <th>PropertyField34</th>\n",
       "      <th>PropertyField36</th>\n",
       "      <th>PropertyField37</th>\n",
       "      <th>PropertyField38</th>\n",
       "      <th>GeographicField63</th>\n",
       "      <th>date</th>\n",
       "      <th>weekday_name</th>\n",
       "      <th>month</th>\n",
       "      <th>year</th>\n",
       "    </tr>\n",
       "  </thead>\n",
       "  <tbody>\n",
       "    <tr>\n",
       "      <th>0</th>\n",
       "      <td>2013-08-16</td>\n",
       "      <td>0</td>\n",
       "      <td>0.637518</td>\n",
       "      <td>0.9403</td>\n",
       "      <td>0.037475</td>\n",
       "      <td>1.0200</td>\n",
       "      <td>17</td>\n",
       "      <td>17</td>\n",
       "      <td>23</td>\n",
       "      <td>15</td>\n",
       "      <td>...</td>\n",
       "      <td>1.0</td>\n",
       "      <td>1.0</td>\n",
       "      <td>0.0</td>\n",
       "      <td>0</td>\n",
       "      <td>0.0</td>\n",
       "      <td>0.0</td>\n",
       "      <td>16</td>\n",
       "      <td>Friday</td>\n",
       "      <td>8</td>\n",
       "      <td>2013</td>\n",
       "    </tr>\n",
       "    <tr>\n",
       "      <th>1</th>\n",
       "      <td>2014-04-22</td>\n",
       "      <td>0</td>\n",
       "      <td>-1.529685</td>\n",
       "      <td>1.0006</td>\n",
       "      <td>-1.397630</td>\n",
       "      <td>1.2433</td>\n",
       "      <td>6</td>\n",
       "      <td>6</td>\n",
       "      <td>8</td>\n",
       "      <td>5</td>\n",
       "      <td>...</td>\n",
       "      <td>0.0</td>\n",
       "      <td>1.0</td>\n",
       "      <td>0.0</td>\n",
       "      <td>0</td>\n",
       "      <td>0.0</td>\n",
       "      <td>0.0</td>\n",
       "      <td>22</td>\n",
       "      <td>Tuesday</td>\n",
       "      <td>4</td>\n",
       "      <td>2014</td>\n",
       "    </tr>\n",
       "    <tr>\n",
       "      <th>2</th>\n",
       "      <td>2014-08-25</td>\n",
       "      <td>0</td>\n",
       "      <td>-1.529685</td>\n",
       "      <td>1.0006</td>\n",
       "      <td>-1.397630</td>\n",
       "      <td>1.2433</td>\n",
       "      <td>7</td>\n",
       "      <td>7</td>\n",
       "      <td>12</td>\n",
       "      <td>6</td>\n",
       "      <td>...</td>\n",
       "      <td>1.0</td>\n",
       "      <td>1.0</td>\n",
       "      <td>0.0</td>\n",
       "      <td>0</td>\n",
       "      <td>0.0</td>\n",
       "      <td>0.0</td>\n",
       "      <td>25</td>\n",
       "      <td>Monday</td>\n",
       "      <td>8</td>\n",
       "      <td>2014</td>\n",
       "    </tr>\n",
       "    <tr>\n",
       "      <th>3</th>\n",
       "      <td>2013-04-15</td>\n",
       "      <td>0</td>\n",
       "      <td>-1.123334</td>\n",
       "      <td>0.9769</td>\n",
       "      <td>0.725775</td>\n",
       "      <td>1.2665</td>\n",
       "      <td>3</td>\n",
       "      <td>3</td>\n",
       "      <td>2</td>\n",
       "      <td>2</td>\n",
       "      <td>...</td>\n",
       "      <td>1.0</td>\n",
       "      <td>0.0</td>\n",
       "      <td>0.0</td>\n",
       "      <td>1</td>\n",
       "      <td>0.0</td>\n",
       "      <td>0.0</td>\n",
       "      <td>15</td>\n",
       "      <td>Monday</td>\n",
       "      <td>4</td>\n",
       "      <td>2013</td>\n",
       "    </tr>\n",
       "    <tr>\n",
       "      <th>4</th>\n",
       "      <td>2014-01-25</td>\n",
       "      <td>0</td>\n",
       "      <td>0.637518</td>\n",
       "      <td>0.9472</td>\n",
       "      <td>1.833937</td>\n",
       "      <td>1.3045</td>\n",
       "      <td>8</td>\n",
       "      <td>8</td>\n",
       "      <td>13</td>\n",
       "      <td>7</td>\n",
       "      <td>...</td>\n",
       "      <td>0.0</td>\n",
       "      <td>0.0</td>\n",
       "      <td>0.0</td>\n",
       "      <td>0</td>\n",
       "      <td>0.0</td>\n",
       "      <td>0.0</td>\n",
       "      <td>25</td>\n",
       "      <td>Saturday</td>\n",
       "      <td>1</td>\n",
       "      <td>2014</td>\n",
       "    </tr>\n",
       "  </tbody>\n",
       "</table>\n",
       "<p>5 rows × 270 columns</p>\n",
       "</div>"
      ],
      "text/plain": [
       "  Original_Quote_Date  QuoteConversion_Flag    Field7  Field8   Field10  \\\n",
       "0          2013-08-16                     0  0.637518  0.9403  0.037475   \n",
       "1          2014-04-22                     0 -1.529685  1.0006 -1.397630   \n",
       "2          2014-08-25                     0 -1.529685  1.0006 -1.397630   \n",
       "3          2013-04-15                     0 -1.123334  0.9769  0.725775   \n",
       "4          2014-01-25                     0  0.637518  0.9472  1.833937   \n",
       "\n",
       "   Field11  CoverageField1A  CoverageField2A  CoverageField2B  \\\n",
       "0   1.0200               17               17               23   \n",
       "1   1.2433                6                6                8   \n",
       "2   1.2433                7                7               12   \n",
       "3   1.2665                3                3                2   \n",
       "4   1.3045                8                8               13   \n",
       "\n",
       "   CoverageField3A  ...  PropertyField32  PropertyField34  PropertyField36  \\\n",
       "0               15  ...              1.0              1.0              0.0   \n",
       "1                5  ...              0.0              1.0              0.0   \n",
       "2                6  ...              1.0              1.0              0.0   \n",
       "3                2  ...              1.0              0.0              0.0   \n",
       "4                7  ...              0.0              0.0              0.0   \n",
       "\n",
       "   PropertyField37  PropertyField38  GeographicField63  date weekday_name  \\\n",
       "0                0              0.0                0.0    16       Friday   \n",
       "1                0              0.0                0.0    22      Tuesday   \n",
       "2                0              0.0                0.0    25       Monday   \n",
       "3                1              0.0                0.0    15       Monday   \n",
       "4                0              0.0                0.0    25     Saturday   \n",
       "\n",
       "   month  year  \n",
       "0      8  2013  \n",
       "1      4  2014  \n",
       "2      8  2014  \n",
       "3      4  2013  \n",
       "4      1  2014  \n",
       "\n",
       "[5 rows x 270 columns]"
      ]
     },
     "execution_count": 52,
     "metadata": {},
     "output_type": "execute_result"
    }
   ],
   "source": [
    "df['Original_Quote_Date'] = pd.to_datetime(df['Original_Quote_Date']) #converting to datetime\n",
    "print(df['Original_Quote_Date'].dtype)\n",
    "extract_date_feat(df).head() #direct update of columns in the dataframe"
   ]
  },
  {
   "cell_type": "code",
   "execution_count": 53,
   "metadata": {
    "colab": {
     "base_uri": "https://localhost:8080/"
    },
    "id": "D3QGP0zicqld",
    "outputId": "d2d5b1d9-ced6-41a9-a1ea-33b2c4129c80"
   },
   "outputs": [
    {
     "name": "stdout",
     "output_type": "stream",
     "text": [
      "The dimension after addiion of 4 columns:  (260753, 270)\n"
     ]
    }
   ],
   "source": [
    "print(\"The dimension after addiion of 4 columns: \",df.shape)"
   ]
  },
  {
   "cell_type": "code",
   "execution_count": 54,
   "metadata": {
    "id": "P4JG3tyAuAJS"
   },
   "outputs": [],
   "source": [
    "cat_features=[i for i in df.columns if df.dtypes[i]=='object']\n",
    "numerical_features=list(set(df.columns)-set(cat_features))"
   ]
  },
  {
   "cell_type": "code",
   "execution_count": 55,
   "metadata": {
    "id": "6-VX0am8VM1D"
   },
   "outputs": [],
   "source": [
    "new_feat=['date','weekday_name','month','year']"
   ]
  },
  {
   "cell_type": "code",
   "execution_count": 56,
   "metadata": {
    "colab": {
     "base_uri": "https://localhost:8080/",
     "height": 0
    },
    "id": "t9elI0WAom9q",
    "outputId": "f6867b0b-02da-42e8-8170-9b5dda7624cd"
   },
   "outputs": [
    {
     "data": {
      "image/png": "[encoded data removed]",
      "text/plain": [
       "<Figure size 1800x288 with 4 Axes>"
      ]
     },
     "metadata": {
      "needs_background": "light"
     },
     "output_type": "display_data"
    }
   ],
   "source": [
    "\"\"\" Analysing the count of all new columns based on the distinct values of quotation dates\"\"\"\n",
    "%matplotlib inline \n",
    "import warnings\n",
    "warnings.filterwarnings(\"ignore\") \n",
    "import seaborn as sns\n",
    "import matplotlib.pyplot as plt\n",
    "plt.figure(figsize=(25,4))\n",
    "for j,i in enumerate(new_feat):\n",
    "  plt.subplot(1, 4, j+1)\n",
    "  sns.countplot(sorted(df[i]))\n",
    "  plt.xlabel(\"count\")\n",
    "  plt.xlabel(\"{}\".format(i))\n",
    "  plt.title(\"Countplot for {} \".format(i))\n",
    "plt.show()"
   ]
  },
  {
   "cell_type": "markdown",
   "metadata": {
    "id": "PI46NH1gDdGC"
   },
   "source": [
    "### Observation:\n",
    "\n",
    "The above represent the count of quoted dates for 3 year term\n",
    "* From Date column, we can observe that number of quotation made to customer on date are not stable. However quotation made/prepared at the last day of the month is less (This could be because 31st day occurs only 5 times in a year)\n",
    "* In weekday_name column,We see the higher quotation made on Monday(which is start of week) and conversion count goes decreasing for subsequent days\n",
    "* In month column,Quotation made are higher in the January March & April and starts decreasing for the subsequent years. In Feb month. It could be less due to lesser number of days in Feb Month\n",
    "* Higher quotation are made in 2014 and lesser in 2014 year"
   ]
  },
  {
   "cell_type": "code",
   "execution_count": 57,
   "metadata": {
    "id": "_jFM8grhvWgV"
   },
   "outputs": [],
   "source": [
    "import numpy as np\n",
    "quote_converted_1_all=[]\n",
    "quote_not_converted_0_all=[]\n",
    "\n",
    "for k in ['weekday_name','month','date','year']: #checking for new features quote conversion dependency\n",
    "  quote_converted_1=[] #storing converted customers count in terms of new features\n",
    "  quote_not_converted_0=[]\n",
    "  total_quote=df['QuoteConversion_Flag'].count() #total number of quotes available\n",
    "  for i in np.unique(df[k]):\n",
    "    \"\"\" To get converted quotes from each Month, Day,Year,Date \"\"\"\n",
    "    value_1=df['QuoteConversion_Flag'][df[k]==i].sum() #concept: count of quote conversion for weekday = Monday,Tuesday\n",
    "    value_0= total_quote-value_1  #to get the non converted quotes\n",
    "    quote_converted_1.append(value_1)\n",
    "    quote_not_converted_0.append(value_0)\n",
    "  quote_converted_1_all.append(quote_converted_1)\n",
    "  quote_not_converted_0_all.append(quote_not_converted_0)"
   ]
  },
  {
   "cell_type": "code",
   "execution_count": 58,
   "metadata": {
    "colab": {
     "base_uri": "https://localhost:8080/",
     "height": 0
    },
    "id": "UfNHZ0Haqc4R",
    "outputId": "f5803b2f-c54c-4502-ad09-741b98ea2370"
   },
   "outputs": [
    {
     "data": {
      "text/plain": [
       "<function matplotlib.pyplot.show(close=None, block=None)>"
      ]
     },
     "execution_count": 58,
     "metadata": {},
     "output_type": "execute_result"
    },
    {
     "data": {
      "image/png": "[encoded data removed]",
      "text/plain": [
       "<Figure size 1080x432 with 4 Axes>"
      ]
     },
     "metadata": {
      "needs_background": "light"
     },
     "output_type": "display_data"
    }
   ],
   "source": [
    "import seaborn as sns\n",
    "import matplotlib.pyplot as plt\n",
    "plt.figure(figsize=(15,6))\n",
    "for j,k in enumerate(['weekday_name','month','date','year']):\n",
    "  plt.subplot(2,2,j+1)  #splitting 2 2 row, 2 column & placement\n",
    "  plt.bar(np.unique(df[k]),quote_converted_1_all[j])\n",
    "  plt.xlabel(k)\n",
    "  plt.ylabel(\"Converted count\")\n",
    "plt.show"
   ]
  },
  {
   "cell_type": "markdown",
   "metadata": {
    "id": "cYdv-2zceer0"
   },
   "source": [
    "### Observation:\n",
    "* In weekday_name column,We see the higher quotation made on Monday(which is start of week) and conversion count goes decreasing for subsequent days\n",
    "* In month column,Quotation made are higher in the January March & April and starts decreasing for the subsequent years. In Feb month. It could be less due to lesser number of days in Feb Month\n",
    "* From Date column, we can observe that number of quotation sold/converted on customer on date are not stable. However converted quotation at the last day of the month is less (This could be because 31st day occurs only 5 times in a year)\n",
    "* In 2013, 21343 number of customers are converted their quote to policy. foe the next subsequent years the conversion starts decreasing\n",
    "\n"
   ]
  },
  {
   "cell_type": "code",
   "execution_count": 60,
   "metadata": {},
   "outputs": [],
   "source": [
    "y=df['QuoteConversion_Flag']\n",
    "df=df.drop(['QuoteConversion_Flag','Original_Quote_Date'],axis=1)"
   ]
  },
  {
   "cell_type": "code",
   "execution_count": 61,
   "metadata": {
    "id": "OCKBmdfkWBOR"
   },
   "outputs": [],
   "source": [
    "#this train data contains without OHE features\n",
    "df.to_csv('train_preprocessed_with NULL.csv')"
   ]
  },
  {
   "cell_type": "code",
   "execution_count": null,
   "metadata": {},
   "outputs": [],
   "source": [
    "#loading data from storage without NULL values\n",
    "import pandas as pd\n",
    "import numpy as np\n",
    "df_1 =pd.read_csv(\"train_preprocessed_with NULL.csv\")"
   ]
  },
  {
   "cell_type": "code",
   "execution_count": null,
   "metadata": {},
   "outputs": [],
   "source": [
    "X_test_data=pd.read_csv(\"test.csv\")\n",
    "X_test_data=X_test_data.drop(itemlist,axis=1)\n",
    "print(\"test_data dimension is: \", X_test_data.shape)\n",
    "X_test_data.columns"
   ]
  }
 ],
 "metadata": {
  "colab": {
   "collapsed_sections": [
    "wDmC7E3ky1cD",
    "eOYj29ASzB_d",
    "nho3faeM7rpS",
    "BRdJFwG1ce9D",
    "mCEeFTr4XU_a",
    "jl1dhoeLOLiG",
    "A8UTaIVjomiL",
    "QZC5NugWLG8w",
    "fZRFnJjE9zzz",
    "qSkeKNpOvSH7",
    "1r0L7wTQoWEZ",
    "pGcnUphAlLqJ",
    "WktxXaetNGlN",
    "npaEt8KsNTOG",
    "D2qgGXQaNWq-",
    "iqKEljHiNiM_",
    "OnnfhNItM6B3",
    "4SpanUehoGmJ",
    "vVyHnpQCBAIR",
    "LImRxdxPAysI",
    "VZWNf1A42R8Z",
    "XbpMVlvbNu27",
    "aZgrOyL0EeFS",
    "M-zdSrP58Y8Z",
    "BEmEBvjppoP_",
    "1BGFItuh63NM",
    "e1Hi50PAKHot",
    "Jazw7RDHhy0O",
    "IgohIMHcocka",
    "3vfhe7lGNh1I",
    "q6NxirFKpb5y",
    "wu4jYkZhrmk_",
    "MTrwC-Z-lEt6",
    "PI46NH1gDdGC",
    "R4axugSteoxE",
    "jJPkzyaA5T_0",
    "5n0XhHpFCoaZ",
    "lGCAt67WGAOb",
    "sCW8eVxpmke8",
    "eoAT-k4uk-_1",
    "8OOPM0aqSxk3",
    "SUpaLg3Eyfpe",
    "eFfnQ0H_Ume3",
    "0epen33xh6R8",
    "fmAKGClFr78c"
   ],
   "name": "Homesite Policy Clasification_v7.ipynb",
   "provenance": []
  },
  "kernelspec": {
   "display_name": "Python 3",
   "language": "python",
   "name": "python3"
  },
  "language_info": {
   "codemirror_mode": {
    "name": "ipython",
    "version": 3
   },
   "file_extension": ".py",
   "mimetype": "text/x-python",
   "name": "python",
   "nbconvert_exporter": "python",
   "pygments_lexer": "ipython3",
   "version": "3.6.5"
  },
  "widgets": {
   "application/vnd.jupyter.widget-state+json": {
    "07b861ba86774a7a97fe9c5061a47c29": {
     "model_module": "@jupyter-widgets/controls",
     "model_module_version": "1.5.0",
     "model_name": "DescriptionStyleModel",
     "state": {
      "_model_module": "@jupyter-widgets/controls",
      "_model_module_version": "1.5.0",
      "_model_name": "DescriptionStyleModel",
      "_view_count": null,
      "_view_module": "@jupyter-widgets/base",
      "_view_module_version": "1.2.0",
      "_view_name": "StyleView",
      "description_width": ""
     }
    },
    "07d2512bdb87478c97fbbb6c94fca330": {
     "model_module": "@jupyter-widgets/controls",
     "model_module_version": "1.5.0",
     "model_name": "DescriptionStyleModel",
     "state": {
      "_model_module": "@jupyter-widgets/controls",
      "_model_module_version": "1.5.0",
      "_model_name": "DescriptionStyleModel",
      "_view_count": null,
      "_view_module": "@jupyter-widgets/base",
      "_view_module_version": "1.2.0",
      "_view_name": "StyleView",
      "description_width": ""
     }
    },
    "086fdce40bb848f58921a74bac6a8f54": {
     "model_module": "@jupyter-widgets/controls",
     "model_module_version": "1.5.0",
     "model_name": "HBoxModel",
     "state": {
      "_dom_classes": [],
      "_model_module": "@jupyter-widgets/controls",
      "_model_module_version": "1.5.0",
      "_model_name": "HBoxModel",
      "_view_count": null,
      "_view_module": "@jupyter-widgets/controls",
      "_view_module_version": "1.5.0",
      "_view_name": "HBoxView",
      "box_style": "",
      "children": [
       "IPY_MODEL_aeaf47972ad843a1939060f987780f57",
       "IPY_MODEL_4f359cedcccd43ac95f93bde1d8380f5",
       "IPY_MODEL_e26c7dd47f944ec0b90fc2165ec18648"
      ],
      "layout": "IPY_MODEL_2308431d2d6e4d2d922e5f174f2fd556"
     }
    },
    "0ff4c92818494e10ab8a94e4fb6590ea": {
     "model_module": "@jupyter-widgets/base",
     "model_module_version": "1.2.0",
     "model_name": "LayoutModel",
     "state": {
      "_model_module": "@jupyter-widgets/base",
      "_model_module_version": "1.2.0",
      "_model_name": "LayoutModel",
      "_view_count": null,
      "_view_module": "@jupyter-widgets/base",
      "_view_module_version": "1.2.0",
      "_view_name": "LayoutView",
      "align_content": null,
      "align_items": null,
      "align_self": null,
      "border": null,
      "bottom": null,
      "display": null,
      "flex": null,
      "flex_flow": null,
      "grid_area": null,
      "grid_auto_columns": null,
      "grid_auto_flow": null,
      "grid_auto_rows": null,
      "grid_column": null,
      "grid_gap": null,
      "grid_row": null,
      "grid_template_areas": null,
      "grid_template_columns": null,
      "grid_template_rows": null,
      "height": null,
      "justify_content": null,
      "justify_items": null,
      "left": null,
      "margin": null,
      "max_height": null,
      "max_width": null,
      "min_height": null,
      "min_width": null,
      "object_fit": null,
      "object_position": null,
      "order": null,
      "overflow": null,
      "overflow_x": null,
      "overflow_y": null,
      "padding": null,
      "right": null,
      "top": null,
      "visibility": null,
      "width": null
     }
    },
    "2308431d2d6e4d2d922e5f174f2fd556": {
     "model_module": "@jupyter-widgets/base",
     "model_module_version": "1.2.0",
     "model_name": "LayoutModel",
     "state": {
      "_model_module": "@jupyter-widgets/base",
      "_model_module_version": "1.2.0",
      "_model_name": "LayoutModel",
      "_view_count": null,
      "_view_module": "@jupyter-widgets/base",
      "_view_module_version": "1.2.0",
      "_view_name": "LayoutView",
      "align_content": null,
      "align_items": null,
      "align_self": null,
      "border": null,
      "bottom": null,
      "display": null,
      "flex": null,
      "flex_flow": null,
      "grid_area": null,
      "grid_auto_columns": null,
      "grid_auto_flow": null,
      "grid_auto_rows": null,
      "grid_column": null,
      "grid_gap": null,
      "grid_row": null,
      "grid_template_areas": null,
      "grid_template_columns": null,
      "grid_template_rows": null,
      "height": null,
      "justify_content": null,
      "justify_items": null,
      "left": null,
      "margin": null,
      "max_height": null,
      "max_width": null,
      "min_height": null,
      "min_width": null,
      "object_fit": null,
      "object_position": null,
      "order": null,
      "overflow": null,
      "overflow_x": null,
      "overflow_y": null,
      "padding": null,
      "right": null,
      "top": null,
      "visibility": null,
      "width": null
     }
    },
    "3a10cff39fbb4c98b0942cc5038ca02c": {
     "model_module": "@jupyter-widgets/base",
     "model_module_version": "1.2.0",
     "model_name": "LayoutModel",
     "state": {
      "_model_module": "@jupyter-widgets/base",
      "_model_module_version": "1.2.0",
      "_model_name": "LayoutModel",
      "_view_count": null,
      "_view_module": "@jupyter-widgets/base",
      "_view_module_version": "1.2.0",
      "_view_name": "LayoutView",
      "align_content": null,
      "align_items": null,
      "align_self": null,
      "border": null,
      "bottom": null,
      "display": null,
      "flex": null,
      "flex_flow": null,
      "grid_area": null,
      "grid_auto_columns": null,
      "grid_auto_flow": null,
      "grid_auto_rows": null,
      "grid_column": null,
      "grid_gap": null,
      "grid_row": null,
      "grid_template_areas": null,
      "grid_template_columns": null,
      "grid_template_rows": null,
      "height": null,
      "justify_content": null,
      "justify_items": null,
      "left": null,
      "margin": null,
      "max_height": null,
      "max_width": null,
      "min_height": null,
      "min_width": null,
      "object_fit": null,
      "object_position": null,
      "order": null,
      "overflow": null,
      "overflow_x": null,
      "overflow_y": null,
      "padding": null,
      "right": null,
      "top": null,
      "visibility": null,
      "width": null
     }
    },
    "4f359cedcccd43ac95f93bde1d8380f5": {
     "model_module": "@jupyter-widgets/controls",
     "model_module_version": "1.5.0",
     "model_name": "FloatProgressModel",
     "state": {
      "_dom_classes": [],
      "_model_module": "@jupyter-widgets/controls",
      "_model_module_version": "1.5.0",
      "_model_name": "FloatProgressModel",
      "_view_count": null,
      "_view_module": "@jupyter-widgets/controls",
      "_view_module_version": "1.5.0",
      "_view_name": "ProgressView",
      "bar_style": "success",
      "description": "",
      "description_tooltip": null,
      "layout": "IPY_MODEL_0ff4c92818494e10ab8a94e4fb6590ea",
      "max": 9,
      "min": 0,
      "orientation": "horizontal",
      "style": "IPY_MODEL_e6ec2bd22541491d90f4e6a8da4d86d6",
      "value": 9
     }
    },
    "a381adebfbb34feea7ae4b253e267734": {
     "model_module": "@jupyter-widgets/base",
     "model_module_version": "1.2.0",
     "model_name": "LayoutModel",
     "state": {
      "_model_module": "@jupyter-widgets/base",
      "_model_module_version": "1.2.0",
      "_model_name": "LayoutModel",
      "_view_count": null,
      "_view_module": "@jupyter-widgets/base",
      "_view_module_version": "1.2.0",
      "_view_name": "LayoutView",
      "align_content": null,
      "align_items": null,
      "align_self": null,
      "border": null,
      "bottom": null,
      "display": null,
      "flex": null,
      "flex_flow": null,
      "grid_area": null,
      "grid_auto_columns": null,
      "grid_auto_flow": null,
      "grid_auto_rows": null,
      "grid_column": null,
      "grid_gap": null,
      "grid_row": null,
      "grid_template_areas": null,
      "grid_template_columns": null,
      "grid_template_rows": null,
      "height": null,
      "justify_content": null,
      "justify_items": null,
      "left": null,
      "margin": null,
      "max_height": null,
      "max_width": null,
      "min_height": null,
      "min_width": null,
      "object_fit": null,
      "object_position": null,
      "order": null,
      "overflow": null,
      "overflow_x": null,
      "overflow_y": null,
      "padding": null,
      "right": null,
      "top": null,
      "visibility": null,
      "width": null
     }
    },
    "aeaf47972ad843a1939060f987780f57": {
     "model_module": "@jupyter-widgets/controls",
     "model_module_version": "1.5.0",
     "model_name": "HTMLModel",
     "state": {
      "_dom_classes": [],
      "_model_module": "@jupyter-widgets/controls",
      "_model_module_version": "1.5.0",
      "_model_name": "HTMLModel",
      "_view_count": null,
      "_view_module": "@jupyter-widgets/controls",
      "_view_module_version": "1.5.0",
      "_view_name": "HTMLView",
      "description": "",
      "description_tooltip": null,
      "layout": "IPY_MODEL_3a10cff39fbb4c98b0942cc5038ca02c",
      "placeholder": "​",
      "style": "IPY_MODEL_07b861ba86774a7a97fe9c5061a47c29",
      "value": "100%"
     }
    },
    "e26c7dd47f944ec0b90fc2165ec18648": {
     "model_module": "@jupyter-widgets/controls",
     "model_module_version": "1.5.0",
     "model_name": "HTMLModel",
     "state": {
      "_dom_classes": [],
      "_model_module": "@jupyter-widgets/controls",
      "_model_module_version": "1.5.0",
      "_model_name": "HTMLModel",
      "_view_count": null,
      "_view_module": "@jupyter-widgets/controls",
      "_view_module_version": "1.5.0",
      "_view_name": "HTMLView",
      "description": "",
      "description_tooltip": null,
      "layout": "IPY_MODEL_a381adebfbb34feea7ae4b253e267734",
      "placeholder": "​",
      "style": "IPY_MODEL_07d2512bdb87478c97fbbb6c94fca330",
      "value": " 9/9 [01:49&lt;00:00, 10.77s/it]"
     }
    },
    "e6ec2bd22541491d90f4e6a8da4d86d6": {
     "model_module": "@jupyter-widgets/controls",
     "model_module_version": "1.5.0",
     "model_name": "ProgressStyleModel",
     "state": {
      "_model_module": "@jupyter-widgets/controls",
      "_model_module_version": "1.5.0",
      "_model_name": "ProgressStyleModel",
      "_view_count": null,
      "_view_module": "@jupyter-widgets/base",
      "_view_module_version": "1.2.0",
      "_view_name": "StyleView",
      "bar_color": null,
      "description_width": ""
     }
    }
   }
  }
 },
 "nbformat": 4,
 "nbformat_minor": 1
}
